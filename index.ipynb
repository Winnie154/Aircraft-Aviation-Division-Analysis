{
 "cells": [
  {
   "cell_type": "markdown",
   "metadata": {
    "id": "efkaCXkL15MN"
   },
   "source": [
    "# **Aircraft Aviation Division Analysis**\n",
    "\n",
    "---\n",
    "\n",
    "\n",
    "\n",
    "Author:\n",
    "\n",
    "Winnie Awino Odoyo\n",
    "\n"
   ]
  },
  {
   "cell_type": "markdown",
   "metadata": {
    "id": "kbItVzNp24W0"
   },
   "source": [
    "#   Problem Statement\n",
    "\n",
    "---\n",
    "\n",
    "The company i work at is expanding in to new industries to diversify its portfolio. Specifically, they are interested in purchasing and operating airplanes for commercial and private enterprises, but do not know anything about the potential risks of aircraft. I have been  charged with determining which aircraft are the lowest risk for the company to start this new business endeavor. I must then translate my  findings into actionable insights that the head of the new aviation division can use to help decide which aircraft to purchase."
   ]
  },
  {
   "cell_type": "markdown",
   "metadata": {
    "id": "kdQMGWKQ5lx9"
   },
   "source": [
    "# Data Understanding\n",
    "\n",
    "\n",
    "\n",
    "\n",
    "\n",
    "\n",
    "\n",
    "Now that we know what is required of us, i first have to understand the data i am working with because without an understanding then i won't be able to solve anything."
   ]
  },
  {
   "cell_type": "markdown",
   "metadata": {
    "id": "xHHmWESN6awa"
   },
   "source": [
    "### Importing libraries\n",
    "\n"
   ]
  },
  {
   "cell_type": "markdown",
   "metadata": {
    "id": "w3TdcYjs6IXu"
   },
   "source": [
    "To begin, we start by importing the relevant libraries"
   ]
  },
  {
   "cell_type": "code",
   "execution_count": 463,
   "metadata": {
    "id": "c_Z4UJaH-GoC"
   },
   "outputs": [],
   "source": [
    "#importing the relevant libraries\n",
    "import pandas as pd\n",
    "import numpy as np\n",
    "import matplotlib.pyplot as plt\n",
    "import seaborn as sns"
   ]
  },
  {
   "cell_type": "markdown",
   "metadata": {
    "id": "BvxivphD8tCx"
   },
   "source": [
    "### Reading the data from csv files"
   ]
  },
  {
   "cell_type": "markdown",
   "metadata": {
    "id": "lbHWb0qP9KRw"
   },
   "source": [
    "After importing the relevant libraries we ought to load our data"
   ]
  },
  {
   "cell_type": "code",
   "execution_count": 464,
   "metadata": {
    "id": "upWsSe1X-iDl"
   },
   "outputs": [
    {
     "name": "stderr",
     "output_type": "stream",
     "text": [
      "<ipython-input-464-d8ea392e9b29>:2: DtypeWarning: Columns (6,7,28) have mixed types. Specify dtype option on import or set low_memory=False.\n",
      "  aviation_data = pd.read_csv('AviationData.csv', encoding='ISO-8859-1')\n"
     ]
    },
    {
     "data": {
      "text/html": [
       "<div>\n",
       "<style scoped>\n",
       "    .dataframe tbody tr th:only-of-type {\n",
       "        vertical-align: middle;\n",
       "    }\n",
       "\n",
       "    .dataframe tbody tr th {\n",
       "        vertical-align: top;\n",
       "    }\n",
       "\n",
       "    .dataframe thead th {\n",
       "        text-align: right;\n",
       "    }\n",
       "</style>\n",
       "<table border=\"1\" class=\"dataframe\">\n",
       "  <thead>\n",
       "    <tr style=\"text-align: right;\">\n",
       "      <th></th>\n",
       "      <th>Event.Id</th>\n",
       "      <th>Investigation.Type</th>\n",
       "      <th>Accident.Number</th>\n",
       "      <th>Event.Date</th>\n",
       "      <th>Location</th>\n",
       "      <th>Country</th>\n",
       "      <th>Latitude</th>\n",
       "      <th>Longitude</th>\n",
       "      <th>Airport.Code</th>\n",
       "      <th>Airport.Name</th>\n",
       "      <th>...</th>\n",
       "      <th>Purpose.of.flight</th>\n",
       "      <th>Air.carrier</th>\n",
       "      <th>Total.Fatal.Injuries</th>\n",
       "      <th>Total.Serious.Injuries</th>\n",
       "      <th>Total.Minor.Injuries</th>\n",
       "      <th>Total.Uninjured</th>\n",
       "      <th>Weather.Condition</th>\n",
       "      <th>Broad.phase.of.flight</th>\n",
       "      <th>Report.Status</th>\n",
       "      <th>Publication.Date</th>\n",
       "    </tr>\n",
       "  </thead>\n",
       "  <tbody>\n",
       "    <tr>\n",
       "      <th>0</th>\n",
       "      <td>20001218X45444</td>\n",
       "      <td>Accident</td>\n",
       "      <td>SEA87LA080</td>\n",
       "      <td>1948-10-24</td>\n",
       "      <td>MOOSE CREEK, ID</td>\n",
       "      <td>United States</td>\n",
       "      <td>NaN</td>\n",
       "      <td>NaN</td>\n",
       "      <td>NaN</td>\n",
       "      <td>NaN</td>\n",
       "      <td>...</td>\n",
       "      <td>Personal</td>\n",
       "      <td>NaN</td>\n",
       "      <td>2.0</td>\n",
       "      <td>0.0</td>\n",
       "      <td>0.0</td>\n",
       "      <td>0.0</td>\n",
       "      <td>UNK</td>\n",
       "      <td>Cruise</td>\n",
       "      <td>Probable Cause</td>\n",
       "      <td>NaN</td>\n",
       "    </tr>\n",
       "    <tr>\n",
       "      <th>1</th>\n",
       "      <td>20001218X45447</td>\n",
       "      <td>Accident</td>\n",
       "      <td>LAX94LA336</td>\n",
       "      <td>1962-07-19</td>\n",
       "      <td>BRIDGEPORT, CA</td>\n",
       "      <td>United States</td>\n",
       "      <td>NaN</td>\n",
       "      <td>NaN</td>\n",
       "      <td>NaN</td>\n",
       "      <td>NaN</td>\n",
       "      <td>...</td>\n",
       "      <td>Personal</td>\n",
       "      <td>NaN</td>\n",
       "      <td>4.0</td>\n",
       "      <td>0.0</td>\n",
       "      <td>0.0</td>\n",
       "      <td>0.0</td>\n",
       "      <td>UNK</td>\n",
       "      <td>Unknown</td>\n",
       "      <td>Probable Cause</td>\n",
       "      <td>19-09-1996</td>\n",
       "    </tr>\n",
       "    <tr>\n",
       "      <th>2</th>\n",
       "      <td>20061025X01555</td>\n",
       "      <td>Accident</td>\n",
       "      <td>NYC07LA005</td>\n",
       "      <td>1974-08-30</td>\n",
       "      <td>Saltville, VA</td>\n",
       "      <td>United States</td>\n",
       "      <td>36.922223</td>\n",
       "      <td>-81.878056</td>\n",
       "      <td>NaN</td>\n",
       "      <td>NaN</td>\n",
       "      <td>...</td>\n",
       "      <td>Personal</td>\n",
       "      <td>NaN</td>\n",
       "      <td>3.0</td>\n",
       "      <td>NaN</td>\n",
       "      <td>NaN</td>\n",
       "      <td>NaN</td>\n",
       "      <td>IMC</td>\n",
       "      <td>Cruise</td>\n",
       "      <td>Probable Cause</td>\n",
       "      <td>26-02-2007</td>\n",
       "    </tr>\n",
       "    <tr>\n",
       "      <th>3</th>\n",
       "      <td>20001218X45448</td>\n",
       "      <td>Accident</td>\n",
       "      <td>LAX96LA321</td>\n",
       "      <td>1977-06-19</td>\n",
       "      <td>EUREKA, CA</td>\n",
       "      <td>United States</td>\n",
       "      <td>NaN</td>\n",
       "      <td>NaN</td>\n",
       "      <td>NaN</td>\n",
       "      <td>NaN</td>\n",
       "      <td>...</td>\n",
       "      <td>Personal</td>\n",
       "      <td>NaN</td>\n",
       "      <td>2.0</td>\n",
       "      <td>0.0</td>\n",
       "      <td>0.0</td>\n",
       "      <td>0.0</td>\n",
       "      <td>IMC</td>\n",
       "      <td>Cruise</td>\n",
       "      <td>Probable Cause</td>\n",
       "      <td>12-09-2000</td>\n",
       "    </tr>\n",
       "    <tr>\n",
       "      <th>4</th>\n",
       "      <td>20041105X01764</td>\n",
       "      <td>Accident</td>\n",
       "      <td>CHI79FA064</td>\n",
       "      <td>1979-08-02</td>\n",
       "      <td>Canton, OH</td>\n",
       "      <td>United States</td>\n",
       "      <td>NaN</td>\n",
       "      <td>NaN</td>\n",
       "      <td>NaN</td>\n",
       "      <td>NaN</td>\n",
       "      <td>...</td>\n",
       "      <td>Personal</td>\n",
       "      <td>NaN</td>\n",
       "      <td>1.0</td>\n",
       "      <td>2.0</td>\n",
       "      <td>NaN</td>\n",
       "      <td>0.0</td>\n",
       "      <td>VMC</td>\n",
       "      <td>Approach</td>\n",
       "      <td>Probable Cause</td>\n",
       "      <td>16-04-1980</td>\n",
       "    </tr>\n",
       "  </tbody>\n",
       "</table>\n",
       "<p>5 rows × 31 columns</p>\n",
       "</div>"
      ],
      "text/plain": [
       "         Event.Id Investigation.Type Accident.Number  Event.Date  \\\n",
       "0  20001218X45444           Accident      SEA87LA080  1948-10-24   \n",
       "1  20001218X45447           Accident      LAX94LA336  1962-07-19   \n",
       "2  20061025X01555           Accident      NYC07LA005  1974-08-30   \n",
       "3  20001218X45448           Accident      LAX96LA321  1977-06-19   \n",
       "4  20041105X01764           Accident      CHI79FA064  1979-08-02   \n",
       "\n",
       "          Location        Country   Latitude  Longitude Airport.Code  \\\n",
       "0  MOOSE CREEK, ID  United States        NaN        NaN          NaN   \n",
       "1   BRIDGEPORT, CA  United States        NaN        NaN          NaN   \n",
       "2    Saltville, VA  United States  36.922223 -81.878056          NaN   \n",
       "3       EUREKA, CA  United States        NaN        NaN          NaN   \n",
       "4       Canton, OH  United States        NaN        NaN          NaN   \n",
       "\n",
       "  Airport.Name  ... Purpose.of.flight Air.carrier Total.Fatal.Injuries  \\\n",
       "0          NaN  ...          Personal         NaN                  2.0   \n",
       "1          NaN  ...          Personal         NaN                  4.0   \n",
       "2          NaN  ...          Personal         NaN                  3.0   \n",
       "3          NaN  ...          Personal         NaN                  2.0   \n",
       "4          NaN  ...          Personal         NaN                  1.0   \n",
       "\n",
       "  Total.Serious.Injuries Total.Minor.Injuries Total.Uninjured  \\\n",
       "0                    0.0                  0.0             0.0   \n",
       "1                    0.0                  0.0             0.0   \n",
       "2                    NaN                  NaN             NaN   \n",
       "3                    0.0                  0.0             0.0   \n",
       "4                    2.0                  NaN             0.0   \n",
       "\n",
       "  Weather.Condition  Broad.phase.of.flight   Report.Status Publication.Date  \n",
       "0               UNK                 Cruise  Probable Cause              NaN  \n",
       "1               UNK                Unknown  Probable Cause       19-09-1996  \n",
       "2               IMC                 Cruise  Probable Cause       26-02-2007  \n",
       "3               IMC                 Cruise  Probable Cause       12-09-2000  \n",
       "4               VMC               Approach  Probable Cause       16-04-1980  \n",
       "\n",
       "[5 rows x 31 columns]"
      ]
     },
     "execution_count": 464,
     "metadata": {},
     "output_type": "execute_result"
    }
   ],
   "source": [
    "# loading my  data\n",
    "aviation_data = pd.read_csv('AviationData.csv', encoding='ISO-8859-1')\n",
    "\n",
    "\n",
    "aviation_data.head()\n",
    "\n",
    "\n"
   ]
  },
  {
   "cell_type": "markdown",
   "metadata": {
    "id": "RFSMyIzt8NY7"
   },
   "source": [
    "### Characteristics of the datasets"
   ]
  },
  {
   "cell_type": "markdown",
   "metadata": {
    "id": "C4F8_8b4H4OM"
   },
   "source": [
    "Now that our data is loaded, we have to know the basics of our data and understand it. We cannot proceed to prepare the data if we do not know its basics"
   ]
  },
  {
   "cell_type": "code",
   "execution_count": 465,
   "metadata": {
    "colab": {
     "base_uri": "https://localhost:8080/"
    },
    "id": "edJt_0hmLM0L",
    "outputId": "e7e1ad31-4059-4d1e-a72f-7db829853407"
   },
   "outputs": [
    {
     "name": "stdout",
     "output_type": "stream",
     "text": [
      "<class 'pandas.core.frame.DataFrame'>\n",
      "RangeIndex: 88889 entries, 0 to 88888\n",
      "Data columns (total 31 columns):\n",
      " #   Column                  Non-Null Count  Dtype  \n",
      "---  ------                  --------------  -----  \n",
      " 0   Event.Id                88889 non-null  object \n",
      " 1   Investigation.Type      88889 non-null  object \n",
      " 2   Accident.Number         88889 non-null  object \n",
      " 3   Event.Date              88889 non-null  object \n",
      " 4   Location                88837 non-null  object \n",
      " 5   Country                 88663 non-null  object \n",
      " 6   Latitude                34382 non-null  object \n",
      " 7   Longitude               34373 non-null  object \n",
      " 8   Airport.Code            50132 non-null  object \n",
      " 9   Airport.Name            52704 non-null  object \n",
      " 10  Injury.Severity         87889 non-null  object \n",
      " 11  Aircraft.damage         85695 non-null  object \n",
      " 12  Aircraft.Category       32287 non-null  object \n",
      " 13  Registration.Number     87507 non-null  object \n",
      " 14  Make                    88826 non-null  object \n",
      " 15  Model                   88797 non-null  object \n",
      " 16  Amateur.Built           88787 non-null  object \n",
      " 17  Number.of.Engines       82805 non-null  float64\n",
      " 18  Engine.Type             81793 non-null  object \n",
      " 19  FAR.Description         32023 non-null  object \n",
      " 20  Schedule                12582 non-null  object \n",
      " 21  Purpose.of.flight       82697 non-null  object \n",
      " 22  Air.carrier             16648 non-null  object \n",
      " 23  Total.Fatal.Injuries    77488 non-null  float64\n",
      " 24  Total.Serious.Injuries  76379 non-null  float64\n",
      " 25  Total.Minor.Injuries    76956 non-null  float64\n",
      " 26  Total.Uninjured         82977 non-null  float64\n",
      " 27  Weather.Condition       84397 non-null  object \n",
      " 28  Broad.phase.of.flight   61724 non-null  object \n",
      " 29  Report.Status           82505 non-null  object \n",
      " 30  Publication.Date        75118 non-null  object \n",
      "dtypes: float64(5), object(26)\n",
      "memory usage: 21.0+ MB\n"
     ]
    }
   ],
   "source": [
    "#To preview my data and view the basics\n",
    "#Previewing the aviation data\n",
    "aviation_data.info()"
   ]
  },
  {
   "cell_type": "markdown",
   "metadata": {
    "id": "WEsp6fXC7lNU"
   },
   "source": [
    "From the results above, we are able to view different elements and characteristics of our datasets. The above information is important during data prepearation."
   ]
  },
  {
   "cell_type": "markdown",
   "metadata": {
    "id": "7dbr6LOn5Nho"
   },
   "source": [
    "Before we forget, Let's check for the datatype"
   ]
  },
  {
   "cell_type": "code",
   "execution_count": 466,
   "metadata": {
    "colab": {
     "base_uri": "https://localhost:8080/",
     "height": 203
    },
    "id": "wDKZnWYz5XDL",
    "outputId": "07fd0401-677c-48ce-e8b9-b8d02a07614a"
   },
   "outputs": [
    {
     "data": {
      "text/plain": [
       "pandas.core.frame.DataFrame"
      ]
     },
     "execution_count": 466,
     "metadata": {},
     "output_type": "execute_result"
    }
   ],
   "source": [
    "# Checking for the datatype of our datasets\n",
    "\n",
    "#Checking for the datatype of karamoja subcountiy data\n",
    "type(aviation_data)\n"
   ]
  },
  {
   "cell_type": "markdown",
   "metadata": {
    "id": "3WY2DS7L7LyI"
   },
   "source": [
    "From the results above, we see that our datasets are both pandas dataframes. "
   ]
  },
  {
   "cell_type": "markdown",
   "metadata": {
    "id": "43KdwPZM-9zz"
   },
   "source": [
    "We also need to check the shape of our datasets"
   ]
  },
  {
   "cell_type": "code",
   "execution_count": 467,
   "metadata": {
    "colab": {
     "base_uri": "https://localhost:8080/"
    },
    "id": "LqTqBhY4_OZs",
    "outputId": "46dcc615-1c00-4aa1-b6bf-7415430738a5"
   },
   "outputs": [
    {
     "name": "stdout",
     "output_type": "stream",
     "text": [
      "There are 88889 rows and 31 columns in the data set\n"
     ]
    }
   ],
   "source": [
    "# Checking the shape of the data\n",
    "#To output the number of rows and columns in the  data set\n",
    "aviation_data.shape\n",
    "print(\"There are {} rows and {} columns in the data set\".format(aviation_data.shape[0],aviation_data.shape[1]))"
   ]
  },
  {
   "cell_type": "markdown",
   "metadata": {},
   "source": [
    " Let's also check the columns of the dataset;"
   ]
  },
  {
   "cell_type": "code",
   "execution_count": 468,
   "metadata": {},
   "outputs": [
    {
     "data": {
      "text/plain": [
       "Index(['Event.Id', 'Investigation.Type', 'Accident.Number', 'Event.Date',\n",
       "       'Location', 'Country', 'Latitude', 'Longitude', 'Airport.Code',\n",
       "       'Airport.Name', 'Injury.Severity', 'Aircraft.damage',\n",
       "       'Aircraft.Category', 'Registration.Number', 'Make', 'Model',\n",
       "       'Amateur.Built', 'Number.of.Engines', 'Engine.Type', 'FAR.Description',\n",
       "       'Schedule', 'Purpose.of.flight', 'Air.carrier', 'Total.Fatal.Injuries',\n",
       "       'Total.Serious.Injuries', 'Total.Minor.Injuries', 'Total.Uninjured',\n",
       "       'Weather.Condition', 'Broad.phase.of.flight', 'Report.Status',\n",
       "       'Publication.Date'],\n",
       "      dtype='object')"
      ]
     },
     "execution_count": 468,
     "metadata": {},
     "output_type": "execute_result"
    }
   ],
   "source": [
    "# To check the columns of the dataset\n",
    "aviation_data.columns"
   ]
  },
  {
   "cell_type": "markdown",
   "metadata": {
    "id": "9IBA8lOm-taG"
   },
   "source": [
    "# Data Preparation"
   ]
  },
  {
   "cell_type": "markdown",
   "metadata": {
    "id": "Emtg63tzEefD"
   },
   "source": [
    "Data preparation is an important step to any analytics as data unclean data may present limitations in visualizations and models"
   ]
  },
  {
   "cell_type": "markdown",
   "metadata": {
    "id": "WvgjkLjKpG-x"
   },
   "source": [
    "## Data Consistency"
   ]
  },
  {
   "cell_type": "markdown",
   "metadata": {
    "id": "acUrf_SktU04"
   },
   "source": [
    "### Modifying  column names"
   ]
  },
  {
   "cell_type": "code",
   "execution_count": 469,
   "metadata": {
    "colab": {
     "base_uri": "https://localhost:8080/"
    },
    "id": "wR3bS2CspS-C",
    "outputId": "87664711-1457-45eb-ddbb-e667a35cad69"
   },
   "outputs": [],
   "source": [
    "#To replace the (.) with (_) in the column names\n",
    "\n",
    "aviation_data.columns = aviation_data.columns.str.replace('.', '_')\n"
   ]
  },
  {
   "cell_type": "code",
   "execution_count": 470,
   "metadata": {},
   "outputs": [
    {
     "data": {
      "text/plain": [
       "Index(['Event_Id', 'Investigation_Type', 'Accident_Number', 'Event_Date',\n",
       "       'Location', 'Country', 'Latitude', 'Longitude', 'Airport_Code',\n",
       "       'Airport_Name', 'Injury_Severity', 'Aircraft_damage',\n",
       "       'Aircraft_Category', 'Registration_Number', 'Make', 'Model',\n",
       "       'Amateur_Built', 'Number_of_Engines', 'Engine_Type', 'FAR_Description',\n",
       "       'Schedule', 'Purpose_of_flight', 'Air_carrier', 'Total_Fatal_Injuries',\n",
       "       'Total_Serious_Injuries', 'Total_Minor_Injuries', 'Total_Uninjured',\n",
       "       'Weather_Condition', 'Broad_phase_of_flight', 'Report_Status',\n",
       "       'Publication_Date'],\n",
       "      dtype='object')"
      ]
     },
     "execution_count": 470,
     "metadata": {},
     "output_type": "execute_result"
    }
   ],
   "source": [
    "# Removing the whitespaces in column names\n",
    "aviation_data.rename(columns=lambda x: x.strip(),inplace=True)\n",
    "\n",
    "aviation_data.columns"
   ]
  },
  {
   "cell_type": "markdown",
   "metadata": {
    "id": "MLvPUeY_uPtm"
   },
   "source": [
    "Phew! Now the column names looked tidy as they have been made consistent. Now let's preview our data again"
   ]
  },
  {
   "cell_type": "code",
   "execution_count": 471,
   "metadata": {},
   "outputs": [
    {
     "data": {
      "text/html": [
       "<div>\n",
       "<style scoped>\n",
       "    .dataframe tbody tr th:only-of-type {\n",
       "        vertical-align: middle;\n",
       "    }\n",
       "\n",
       "    .dataframe tbody tr th {\n",
       "        vertical-align: top;\n",
       "    }\n",
       "\n",
       "    .dataframe thead th {\n",
       "        text-align: right;\n",
       "    }\n",
       "</style>\n",
       "<table border=\"1\" class=\"dataframe\">\n",
       "  <thead>\n",
       "    <tr style=\"text-align: right;\">\n",
       "      <th></th>\n",
       "      <th>Event_Id</th>\n",
       "      <th>Investigation_Type</th>\n",
       "      <th>Accident_Number</th>\n",
       "      <th>Event_Date</th>\n",
       "      <th>Location</th>\n",
       "      <th>Country</th>\n",
       "      <th>Latitude</th>\n",
       "      <th>Longitude</th>\n",
       "      <th>Airport_Code</th>\n",
       "      <th>Airport_Name</th>\n",
       "      <th>...</th>\n",
       "      <th>Purpose_of_flight</th>\n",
       "      <th>Air_carrier</th>\n",
       "      <th>Total_Fatal_Injuries</th>\n",
       "      <th>Total_Serious_Injuries</th>\n",
       "      <th>Total_Minor_Injuries</th>\n",
       "      <th>Total_Uninjured</th>\n",
       "      <th>Weather_Condition</th>\n",
       "      <th>Broad_phase_of_flight</th>\n",
       "      <th>Report_Status</th>\n",
       "      <th>Publication_Date</th>\n",
       "    </tr>\n",
       "  </thead>\n",
       "  <tbody>\n",
       "    <tr>\n",
       "      <th>0</th>\n",
       "      <td>20001218X45444</td>\n",
       "      <td>Accident</td>\n",
       "      <td>SEA87LA080</td>\n",
       "      <td>1948-10-24</td>\n",
       "      <td>MOOSE CREEK, ID</td>\n",
       "      <td>United States</td>\n",
       "      <td>NaN</td>\n",
       "      <td>NaN</td>\n",
       "      <td>NaN</td>\n",
       "      <td>NaN</td>\n",
       "      <td>...</td>\n",
       "      <td>Personal</td>\n",
       "      <td>NaN</td>\n",
       "      <td>2.0</td>\n",
       "      <td>0.0</td>\n",
       "      <td>0.0</td>\n",
       "      <td>0.0</td>\n",
       "      <td>UNK</td>\n",
       "      <td>Cruise</td>\n",
       "      <td>Probable Cause</td>\n",
       "      <td>NaN</td>\n",
       "    </tr>\n",
       "    <tr>\n",
       "      <th>1</th>\n",
       "      <td>20001218X45447</td>\n",
       "      <td>Accident</td>\n",
       "      <td>LAX94LA336</td>\n",
       "      <td>1962-07-19</td>\n",
       "      <td>BRIDGEPORT, CA</td>\n",
       "      <td>United States</td>\n",
       "      <td>NaN</td>\n",
       "      <td>NaN</td>\n",
       "      <td>NaN</td>\n",
       "      <td>NaN</td>\n",
       "      <td>...</td>\n",
       "      <td>Personal</td>\n",
       "      <td>NaN</td>\n",
       "      <td>4.0</td>\n",
       "      <td>0.0</td>\n",
       "      <td>0.0</td>\n",
       "      <td>0.0</td>\n",
       "      <td>UNK</td>\n",
       "      <td>Unknown</td>\n",
       "      <td>Probable Cause</td>\n",
       "      <td>19-09-1996</td>\n",
       "    </tr>\n",
       "    <tr>\n",
       "      <th>2</th>\n",
       "      <td>20061025X01555</td>\n",
       "      <td>Accident</td>\n",
       "      <td>NYC07LA005</td>\n",
       "      <td>1974-08-30</td>\n",
       "      <td>Saltville, VA</td>\n",
       "      <td>United States</td>\n",
       "      <td>36.922223</td>\n",
       "      <td>-81.878056</td>\n",
       "      <td>NaN</td>\n",
       "      <td>NaN</td>\n",
       "      <td>...</td>\n",
       "      <td>Personal</td>\n",
       "      <td>NaN</td>\n",
       "      <td>3.0</td>\n",
       "      <td>NaN</td>\n",
       "      <td>NaN</td>\n",
       "      <td>NaN</td>\n",
       "      <td>IMC</td>\n",
       "      <td>Cruise</td>\n",
       "      <td>Probable Cause</td>\n",
       "      <td>26-02-2007</td>\n",
       "    </tr>\n",
       "    <tr>\n",
       "      <th>3</th>\n",
       "      <td>20001218X45448</td>\n",
       "      <td>Accident</td>\n",
       "      <td>LAX96LA321</td>\n",
       "      <td>1977-06-19</td>\n",
       "      <td>EUREKA, CA</td>\n",
       "      <td>United States</td>\n",
       "      <td>NaN</td>\n",
       "      <td>NaN</td>\n",
       "      <td>NaN</td>\n",
       "      <td>NaN</td>\n",
       "      <td>...</td>\n",
       "      <td>Personal</td>\n",
       "      <td>NaN</td>\n",
       "      <td>2.0</td>\n",
       "      <td>0.0</td>\n",
       "      <td>0.0</td>\n",
       "      <td>0.0</td>\n",
       "      <td>IMC</td>\n",
       "      <td>Cruise</td>\n",
       "      <td>Probable Cause</td>\n",
       "      <td>12-09-2000</td>\n",
       "    </tr>\n",
       "    <tr>\n",
       "      <th>4</th>\n",
       "      <td>20041105X01764</td>\n",
       "      <td>Accident</td>\n",
       "      <td>CHI79FA064</td>\n",
       "      <td>1979-08-02</td>\n",
       "      <td>Canton, OH</td>\n",
       "      <td>United States</td>\n",
       "      <td>NaN</td>\n",
       "      <td>NaN</td>\n",
       "      <td>NaN</td>\n",
       "      <td>NaN</td>\n",
       "      <td>...</td>\n",
       "      <td>Personal</td>\n",
       "      <td>NaN</td>\n",
       "      <td>1.0</td>\n",
       "      <td>2.0</td>\n",
       "      <td>NaN</td>\n",
       "      <td>0.0</td>\n",
       "      <td>VMC</td>\n",
       "      <td>Approach</td>\n",
       "      <td>Probable Cause</td>\n",
       "      <td>16-04-1980</td>\n",
       "    </tr>\n",
       "  </tbody>\n",
       "</table>\n",
       "<p>5 rows × 31 columns</p>\n",
       "</div>"
      ],
      "text/plain": [
       "         Event_Id Investigation_Type Accident_Number  Event_Date  \\\n",
       "0  20001218X45444           Accident      SEA87LA080  1948-10-24   \n",
       "1  20001218X45447           Accident      LAX94LA336  1962-07-19   \n",
       "2  20061025X01555           Accident      NYC07LA005  1974-08-30   \n",
       "3  20001218X45448           Accident      LAX96LA321  1977-06-19   \n",
       "4  20041105X01764           Accident      CHI79FA064  1979-08-02   \n",
       "\n",
       "          Location        Country   Latitude  Longitude Airport_Code  \\\n",
       "0  MOOSE CREEK, ID  United States        NaN        NaN          NaN   \n",
       "1   BRIDGEPORT, CA  United States        NaN        NaN          NaN   \n",
       "2    Saltville, VA  United States  36.922223 -81.878056          NaN   \n",
       "3       EUREKA, CA  United States        NaN        NaN          NaN   \n",
       "4       Canton, OH  United States        NaN        NaN          NaN   \n",
       "\n",
       "  Airport_Name  ... Purpose_of_flight Air_carrier Total_Fatal_Injuries  \\\n",
       "0          NaN  ...          Personal         NaN                  2.0   \n",
       "1          NaN  ...          Personal         NaN                  4.0   \n",
       "2          NaN  ...          Personal         NaN                  3.0   \n",
       "3          NaN  ...          Personal         NaN                  2.0   \n",
       "4          NaN  ...          Personal         NaN                  1.0   \n",
       "\n",
       "  Total_Serious_Injuries Total_Minor_Injuries Total_Uninjured  \\\n",
       "0                    0.0                  0.0             0.0   \n",
       "1                    0.0                  0.0             0.0   \n",
       "2                    NaN                  NaN             NaN   \n",
       "3                    0.0                  0.0             0.0   \n",
       "4                    2.0                  NaN             0.0   \n",
       "\n",
       "  Weather_Condition  Broad_phase_of_flight   Report_Status Publication_Date  \n",
       "0               UNK                 Cruise  Probable Cause              NaN  \n",
       "1               UNK                Unknown  Probable Cause       19-09-1996  \n",
       "2               IMC                 Cruise  Probable Cause       26-02-2007  \n",
       "3               IMC                 Cruise  Probable Cause       12-09-2000  \n",
       "4               VMC               Approach  Probable Cause       16-04-1980  \n",
       "\n",
       "[5 rows x 31 columns]"
      ]
     },
     "execution_count": 471,
     "metadata": {},
     "output_type": "execute_result"
    }
   ],
   "source": [
    "# previewing the data\n",
    "aviation_data.head()"
   ]
  },
  {
   "cell_type": "markdown",
   "metadata": {
    "id": "lneUaTEJwqUk"
   },
   "source": [
    "### Modifying Column values"
   ]
  },
  {
   "cell_type": "markdown",
   "metadata": {
    "id": "Tbcz--TTvfx6"
   },
   "source": [
    "The date/time format in **Event Details** column is not the format we want to use because it is inconsistent with **Publication_Date** column format , so let's change the format to dd-mm-yy.\n",
    "\n",
    "\n",
    "\n"
   ]
  },
  {
   "cell_type": "code",
   "execution_count": 472,
   "metadata": {
    "colab": {
     "base_uri": "https://localhost:8080/",
     "height": 180
    },
    "id": "vAt0ePsJw7uO",
    "outputId": "ad220980-cc98-477b-a783-cef45b9cea26"
   },
   "outputs": [
    {
     "name": "stderr",
     "output_type": "stream",
     "text": [
      "<ipython-input-472-03156205c227>:2: UserWarning: Parsing dates in %Y-%m-%d format when dayfirst=True was specified. Pass `dayfirst=False` or specify a format to silence this warning.\n",
      "  aviation_data['Event_Date'] = pd.to_datetime(aviation_data['Event_Date'], dayfirst=True)\n"
     ]
    },
    {
     "data": {
      "text/html": [
       "<div>\n",
       "<style scoped>\n",
       "    .dataframe tbody tr th:only-of-type {\n",
       "        vertical-align: middle;\n",
       "    }\n",
       "\n",
       "    .dataframe tbody tr th {\n",
       "        vertical-align: top;\n",
       "    }\n",
       "\n",
       "    .dataframe thead th {\n",
       "        text-align: right;\n",
       "    }\n",
       "</style>\n",
       "<table border=\"1\" class=\"dataframe\">\n",
       "  <thead>\n",
       "    <tr style=\"text-align: right;\">\n",
       "      <th></th>\n",
       "      <th>Event_Id</th>\n",
       "      <th>Investigation_Type</th>\n",
       "      <th>Accident_Number</th>\n",
       "      <th>Event_Date</th>\n",
       "      <th>Location</th>\n",
       "      <th>Country</th>\n",
       "      <th>Latitude</th>\n",
       "      <th>Longitude</th>\n",
       "      <th>Airport_Code</th>\n",
       "      <th>Airport_Name</th>\n",
       "      <th>...</th>\n",
       "      <th>Purpose_of_flight</th>\n",
       "      <th>Air_carrier</th>\n",
       "      <th>Total_Fatal_Injuries</th>\n",
       "      <th>Total_Serious_Injuries</th>\n",
       "      <th>Total_Minor_Injuries</th>\n",
       "      <th>Total_Uninjured</th>\n",
       "      <th>Weather_Condition</th>\n",
       "      <th>Broad_phase_of_flight</th>\n",
       "      <th>Report_Status</th>\n",
       "      <th>Publication_Date</th>\n",
       "    </tr>\n",
       "  </thead>\n",
       "  <tbody>\n",
       "    <tr>\n",
       "      <th>0</th>\n",
       "      <td>20001218X45444</td>\n",
       "      <td>Accident</td>\n",
       "      <td>SEA87LA080</td>\n",
       "      <td>24-10-1948</td>\n",
       "      <td>MOOSE CREEK, ID</td>\n",
       "      <td>United States</td>\n",
       "      <td>NaN</td>\n",
       "      <td>NaN</td>\n",
       "      <td>NaN</td>\n",
       "      <td>NaN</td>\n",
       "      <td>...</td>\n",
       "      <td>Personal</td>\n",
       "      <td>NaN</td>\n",
       "      <td>2.0</td>\n",
       "      <td>0.0</td>\n",
       "      <td>0.0</td>\n",
       "      <td>0.0</td>\n",
       "      <td>UNK</td>\n",
       "      <td>Cruise</td>\n",
       "      <td>Probable Cause</td>\n",
       "      <td>NaN</td>\n",
       "    </tr>\n",
       "    <tr>\n",
       "      <th>1</th>\n",
       "      <td>20001218X45447</td>\n",
       "      <td>Accident</td>\n",
       "      <td>LAX94LA336</td>\n",
       "      <td>19-07-1962</td>\n",
       "      <td>BRIDGEPORT, CA</td>\n",
       "      <td>United States</td>\n",
       "      <td>NaN</td>\n",
       "      <td>NaN</td>\n",
       "      <td>NaN</td>\n",
       "      <td>NaN</td>\n",
       "      <td>...</td>\n",
       "      <td>Personal</td>\n",
       "      <td>NaN</td>\n",
       "      <td>4.0</td>\n",
       "      <td>0.0</td>\n",
       "      <td>0.0</td>\n",
       "      <td>0.0</td>\n",
       "      <td>UNK</td>\n",
       "      <td>Unknown</td>\n",
       "      <td>Probable Cause</td>\n",
       "      <td>19-09-1996</td>\n",
       "    </tr>\n",
       "    <tr>\n",
       "      <th>2</th>\n",
       "      <td>20061025X01555</td>\n",
       "      <td>Accident</td>\n",
       "      <td>NYC07LA005</td>\n",
       "      <td>30-08-1974</td>\n",
       "      <td>Saltville, VA</td>\n",
       "      <td>United States</td>\n",
       "      <td>36.922223</td>\n",
       "      <td>-81.878056</td>\n",
       "      <td>NaN</td>\n",
       "      <td>NaN</td>\n",
       "      <td>...</td>\n",
       "      <td>Personal</td>\n",
       "      <td>NaN</td>\n",
       "      <td>3.0</td>\n",
       "      <td>NaN</td>\n",
       "      <td>NaN</td>\n",
       "      <td>NaN</td>\n",
       "      <td>IMC</td>\n",
       "      <td>Cruise</td>\n",
       "      <td>Probable Cause</td>\n",
       "      <td>26-02-2007</td>\n",
       "    </tr>\n",
       "    <tr>\n",
       "      <th>3</th>\n",
       "      <td>20001218X45448</td>\n",
       "      <td>Accident</td>\n",
       "      <td>LAX96LA321</td>\n",
       "      <td>19-06-1977</td>\n",
       "      <td>EUREKA, CA</td>\n",
       "      <td>United States</td>\n",
       "      <td>NaN</td>\n",
       "      <td>NaN</td>\n",
       "      <td>NaN</td>\n",
       "      <td>NaN</td>\n",
       "      <td>...</td>\n",
       "      <td>Personal</td>\n",
       "      <td>NaN</td>\n",
       "      <td>2.0</td>\n",
       "      <td>0.0</td>\n",
       "      <td>0.0</td>\n",
       "      <td>0.0</td>\n",
       "      <td>IMC</td>\n",
       "      <td>Cruise</td>\n",
       "      <td>Probable Cause</td>\n",
       "      <td>12-09-2000</td>\n",
       "    </tr>\n",
       "    <tr>\n",
       "      <th>4</th>\n",
       "      <td>20041105X01764</td>\n",
       "      <td>Accident</td>\n",
       "      <td>CHI79FA064</td>\n",
       "      <td>02-08-1979</td>\n",
       "      <td>Canton, OH</td>\n",
       "      <td>United States</td>\n",
       "      <td>NaN</td>\n",
       "      <td>NaN</td>\n",
       "      <td>NaN</td>\n",
       "      <td>NaN</td>\n",
       "      <td>...</td>\n",
       "      <td>Personal</td>\n",
       "      <td>NaN</td>\n",
       "      <td>1.0</td>\n",
       "      <td>2.0</td>\n",
       "      <td>NaN</td>\n",
       "      <td>0.0</td>\n",
       "      <td>VMC</td>\n",
       "      <td>Approach</td>\n",
       "      <td>Probable Cause</td>\n",
       "      <td>16-04-1980</td>\n",
       "    </tr>\n",
       "  </tbody>\n",
       "</table>\n",
       "<p>5 rows × 31 columns</p>\n",
       "</div>"
      ],
      "text/plain": [
       "         Event_Id Investigation_Type Accident_Number  Event_Date  \\\n",
       "0  20001218X45444           Accident      SEA87LA080  24-10-1948   \n",
       "1  20001218X45447           Accident      LAX94LA336  19-07-1962   \n",
       "2  20061025X01555           Accident      NYC07LA005  30-08-1974   \n",
       "3  20001218X45448           Accident      LAX96LA321  19-06-1977   \n",
       "4  20041105X01764           Accident      CHI79FA064  02-08-1979   \n",
       "\n",
       "          Location        Country   Latitude  Longitude Airport_Code  \\\n",
       "0  MOOSE CREEK, ID  United States        NaN        NaN          NaN   \n",
       "1   BRIDGEPORT, CA  United States        NaN        NaN          NaN   \n",
       "2    Saltville, VA  United States  36.922223 -81.878056          NaN   \n",
       "3       EUREKA, CA  United States        NaN        NaN          NaN   \n",
       "4       Canton, OH  United States        NaN        NaN          NaN   \n",
       "\n",
       "  Airport_Name  ... Purpose_of_flight Air_carrier Total_Fatal_Injuries  \\\n",
       "0          NaN  ...          Personal         NaN                  2.0   \n",
       "1          NaN  ...          Personal         NaN                  4.0   \n",
       "2          NaN  ...          Personal         NaN                  3.0   \n",
       "3          NaN  ...          Personal         NaN                  2.0   \n",
       "4          NaN  ...          Personal         NaN                  1.0   \n",
       "\n",
       "  Total_Serious_Injuries Total_Minor_Injuries Total_Uninjured  \\\n",
       "0                    0.0                  0.0             0.0   \n",
       "1                    0.0                  0.0             0.0   \n",
       "2                    NaN                  NaN             NaN   \n",
       "3                    0.0                  0.0             0.0   \n",
       "4                    2.0                  NaN             0.0   \n",
       "\n",
       "  Weather_Condition  Broad_phase_of_flight   Report_Status Publication_Date  \n",
       "0               UNK                 Cruise  Probable Cause              NaN  \n",
       "1               UNK                Unknown  Probable Cause       19-09-1996  \n",
       "2               IMC                 Cruise  Probable Cause       26-02-2007  \n",
       "3               IMC                 Cruise  Probable Cause       12-09-2000  \n",
       "4               VMC               Approach  Probable Cause       16-04-1980  \n",
       "\n",
       "[5 rows x 31 columns]"
      ]
     },
     "execution_count": 472,
     "metadata": {},
     "output_type": "execute_result"
    }
   ],
   "source": [
    "# Convert 'Event_Date' to datetime with dayfirst=True, using errors='coerce'\n",
    "aviation_data['Event_Date'] = pd.to_datetime(aviation_data['Event_Date'], dayfirst=True)\n",
    "\n",
    "# Convert to the desired format (dd-mm-yy)\n",
    "aviation_data['Event_Date'] = aviation_data['Event_Date'].dt.strftime('%d-%m-%Y')\n",
    "\n",
    "\n",
    "\n",
    "aviation_data.head()"
   ]
  },
  {
   "cell_type": "markdown",
   "metadata": {},
   "source": [
    "## Data Accuracy"
   ]
  },
  {
   "cell_type": "markdown",
   "metadata": {},
   "source": [
    "### Checking for Duplicates"
   ]
  },
  {
   "cell_type": "code",
   "execution_count": 473,
   "metadata": {},
   "outputs": [
    {
     "data": {
      "text/plain": [
       "0        False\n",
       "1        False\n",
       "2        False\n",
       "3        False\n",
       "4        False\n",
       "         ...  \n",
       "88884    False\n",
       "88885    False\n",
       "88886    False\n",
       "88887    False\n",
       "88888    False\n",
       "Length: 88889, dtype: bool"
      ]
     },
     "execution_count": 473,
     "metadata": {},
     "output_type": "execute_result"
    }
   ],
   "source": [
    "#checks for duplicated rows it returns a series of boolean values\n",
    "aviation_data.duplicated()"
   ]
  },
  {
   "cell_type": "code",
   "execution_count": 474,
   "metadata": {},
   "outputs": [
    {
     "data": {
      "text/plain": [
       "False"
      ]
     },
     "execution_count": 474,
     "metadata": {},
     "output_type": "execute_result"
    }
   ],
   "source": [
    "#use any() to check if any entry is True\n",
    "aviation_data.duplicated().any()"
   ]
  },
  {
   "cell_type": "markdown",
   "metadata": {},
   "source": [
    "From the results above, we see that the dataset does not contain duplicated row values. However, this does not mean there are no duplicates at all, there could be duplicated values in the unique columns"
   ]
  },
  {
   "cell_type": "code",
   "execution_count": 475,
   "metadata": {},
   "outputs": [
    {
     "data": {
      "text/plain": [
       "True"
      ]
     },
     "execution_count": 475,
     "metadata": {},
     "output_type": "execute_result"
    }
   ],
   "source": [
    "# Checking for duplicates in unique entries\n",
    "aviation_data.duplicated(subset='Event_Id').any()"
   ]
  },
  {
   "cell_type": "code",
   "execution_count": 476,
   "metadata": {},
   "outputs": [
    {
     "data": {
      "text/plain": [
       "938"
      ]
     },
     "execution_count": 476,
     "metadata": {},
     "output_type": "execute_result"
    }
   ],
   "source": [
    "# checking for the sum of duplicates in the unique entries\n",
    "aviation_data.duplicated(subset='Event_Id').sum()"
   ]
  },
  {
   "cell_type": "markdown",
   "metadata": {},
   "source": [
    "Now, we need to know the extent of the duplicates in the **Event_Id** column and the potential impact it has on our dataset. This will inform whethere we can drop the duplicates or replace them"
   ]
  },
  {
   "cell_type": "code",
   "execution_count": 477,
   "metadata": {},
   "outputs": [
    {
     "data": {
      "text/plain": [
       "0.011"
      ]
     },
     "execution_count": 477,
     "metadata": {},
     "output_type": "execute_result"
    }
   ],
   "source": [
    "# % of duplicates in the column\n",
    "np.round(aviation_data.duplicated(subset='Event_Id').sum() /len(aviation_data), 3)"
   ]
  },
  {
   "cell_type": "markdown",
   "metadata": {},
   "source": [
    "Okay, **0.011** is the percentage of duplicated unique entries.We need to device what we will do with this information.To do so, we need to first get the indices of the rows with duplicate Event_Id's do that we can know where the duplicates are"
   ]
  },
  {
   "cell_type": "code",
   "execution_count": 478,
   "metadata": {},
   "outputs": [
    {
     "data": {
      "text/plain": [
       "Index([  117,   118,   153,   158,   159,   160,   242,   244,   245,   248,\n",
       "       ...\n",
       "       88592, 88593, 88776, 88777, 88795, 88796, 88797, 88798, 88813, 88814],\n",
       "      dtype='int64', length=1874)"
      ]
     },
     "execution_count": 478,
     "metadata": {},
     "output_type": "execute_result"
    }
   ],
   "source": [
    "#get index of rows with duplicate  Event id's\n",
    "duplicated_indices=aviation_data[aviation_data['Event_Id'].duplicated(keep=False)].index\n",
    "\n",
    "duplicated_indices"
   ]
  },
  {
   "cell_type": "code",
   "execution_count": 479,
   "metadata": {},
   "outputs": [
    {
     "data": {
      "text/html": [
       "<div>\n",
       "<style scoped>\n",
       "    .dataframe tbody tr th:only-of-type {\n",
       "        vertical-align: middle;\n",
       "    }\n",
       "\n",
       "    .dataframe tbody tr th {\n",
       "        vertical-align: top;\n",
       "    }\n",
       "\n",
       "    .dataframe thead th {\n",
       "        text-align: right;\n",
       "    }\n",
       "</style>\n",
       "<table border=\"1\" class=\"dataframe\">\n",
       "  <thead>\n",
       "    <tr style=\"text-align: right;\">\n",
       "      <th></th>\n",
       "      <th>Event_Id</th>\n",
       "      <th>Investigation_Type</th>\n",
       "      <th>Accident_Number</th>\n",
       "      <th>Event_Date</th>\n",
       "      <th>Location</th>\n",
       "      <th>Country</th>\n",
       "      <th>Latitude</th>\n",
       "      <th>Longitude</th>\n",
       "      <th>Airport_Code</th>\n",
       "      <th>Airport_Name</th>\n",
       "      <th>...</th>\n",
       "      <th>Purpose_of_flight</th>\n",
       "      <th>Air_carrier</th>\n",
       "      <th>Total_Fatal_Injuries</th>\n",
       "      <th>Total_Serious_Injuries</th>\n",
       "      <th>Total_Minor_Injuries</th>\n",
       "      <th>Total_Uninjured</th>\n",
       "      <th>Weather_Condition</th>\n",
       "      <th>Broad_phase_of_flight</th>\n",
       "      <th>Report_Status</th>\n",
       "      <th>Publication_Date</th>\n",
       "    </tr>\n",
       "  </thead>\n",
       "  <tbody>\n",
       "    <tr>\n",
       "      <th>117</th>\n",
       "      <td>20020917X01908</td>\n",
       "      <td>Accident</td>\n",
       "      <td>DCA82AA012B</td>\n",
       "      <td>19-01-1982</td>\n",
       "      <td>ROCKPORT, TX</td>\n",
       "      <td>United States</td>\n",
       "      <td>NaN</td>\n",
       "      <td>NaN</td>\n",
       "      <td>RKP</td>\n",
       "      <td>ARANSAS COUNTY AIRPORT</td>\n",
       "      <td>...</td>\n",
       "      <td>Personal</td>\n",
       "      <td>NaN</td>\n",
       "      <td>3.0</td>\n",
       "      <td>0.0</td>\n",
       "      <td>0.0</td>\n",
       "      <td>0.0</td>\n",
       "      <td>IMC</td>\n",
       "      <td>Approach</td>\n",
       "      <td>Probable Cause</td>\n",
       "      <td>19-01-1983</td>\n",
       "    </tr>\n",
       "    <tr>\n",
       "      <th>118</th>\n",
       "      <td>20020917X01908</td>\n",
       "      <td>Accident</td>\n",
       "      <td>DCA82AA012A</td>\n",
       "      <td>19-01-1982</td>\n",
       "      <td>ROCKPORT, TX</td>\n",
       "      <td>United States</td>\n",
       "      <td>NaN</td>\n",
       "      <td>NaN</td>\n",
       "      <td>RKP</td>\n",
       "      <td>ARANSAS COUNTY AIRPORT</td>\n",
       "      <td>...</td>\n",
       "      <td>Executive/corporate</td>\n",
       "      <td>NaN</td>\n",
       "      <td>3.0</td>\n",
       "      <td>0.0</td>\n",
       "      <td>0.0</td>\n",
       "      <td>0.0</td>\n",
       "      <td>IMC</td>\n",
       "      <td>Approach</td>\n",
       "      <td>Probable Cause</td>\n",
       "      <td>19-01-1983</td>\n",
       "    </tr>\n",
       "    <tr>\n",
       "      <th>153</th>\n",
       "      <td>20020917X02259</td>\n",
       "      <td>Accident</td>\n",
       "      <td>LAX82FA049A</td>\n",
       "      <td>23-01-1982</td>\n",
       "      <td>VICTORVILLE, CA</td>\n",
       "      <td>United States</td>\n",
       "      <td>NaN</td>\n",
       "      <td>NaN</td>\n",
       "      <td>NaN</td>\n",
       "      <td>NaN</td>\n",
       "      <td>...</td>\n",
       "      <td>Personal</td>\n",
       "      <td>NaN</td>\n",
       "      <td>2.0</td>\n",
       "      <td>0.0</td>\n",
       "      <td>4.0</td>\n",
       "      <td>0.0</td>\n",
       "      <td>VMC</td>\n",
       "      <td>Unknown</td>\n",
       "      <td>Probable Cause</td>\n",
       "      <td>23-01-1983</td>\n",
       "    </tr>\n",
       "    <tr>\n",
       "      <th>158</th>\n",
       "      <td>20020917X02400</td>\n",
       "      <td>Accident</td>\n",
       "      <td>MIA82FA038B</td>\n",
       "      <td>23-01-1982</td>\n",
       "      <td>NEWPORT RICHEY, FL</td>\n",
       "      <td>United States</td>\n",
       "      <td>NaN</td>\n",
       "      <td>NaN</td>\n",
       "      <td>NaN</td>\n",
       "      <td>NaN</td>\n",
       "      <td>...</td>\n",
       "      <td>Personal</td>\n",
       "      <td>NaN</td>\n",
       "      <td>0.0</td>\n",
       "      <td>0.0</td>\n",
       "      <td>0.0</td>\n",
       "      <td>3.0</td>\n",
       "      <td>VMC</td>\n",
       "      <td>Cruise</td>\n",
       "      <td>Probable Cause</td>\n",
       "      <td>23-01-1983</td>\n",
       "    </tr>\n",
       "    <tr>\n",
       "      <th>159</th>\n",
       "      <td>20020917X02400</td>\n",
       "      <td>Accident</td>\n",
       "      <td>MIA82FA038A</td>\n",
       "      <td>23-01-1982</td>\n",
       "      <td>NEWPORT RICHEY, FL</td>\n",
       "      <td>United States</td>\n",
       "      <td>NaN</td>\n",
       "      <td>NaN</td>\n",
       "      <td>NaN</td>\n",
       "      <td>NaN</td>\n",
       "      <td>...</td>\n",
       "      <td>Personal</td>\n",
       "      <td>NaN</td>\n",
       "      <td>0.0</td>\n",
       "      <td>0.0</td>\n",
       "      <td>0.0</td>\n",
       "      <td>3.0</td>\n",
       "      <td>VMC</td>\n",
       "      <td>Approach</td>\n",
       "      <td>Probable Cause</td>\n",
       "      <td>23-01-1983</td>\n",
       "    </tr>\n",
       "    <tr>\n",
       "      <th>...</th>\n",
       "      <td>...</td>\n",
       "      <td>...</td>\n",
       "      <td>...</td>\n",
       "      <td>...</td>\n",
       "      <td>...</td>\n",
       "      <td>...</td>\n",
       "      <td>...</td>\n",
       "      <td>...</td>\n",
       "      <td>...</td>\n",
       "      <td>...</td>\n",
       "      <td>...</td>\n",
       "      <td>...</td>\n",
       "      <td>...</td>\n",
       "      <td>...</td>\n",
       "      <td>...</td>\n",
       "      <td>...</td>\n",
       "      <td>...</td>\n",
       "      <td>...</td>\n",
       "      <td>...</td>\n",
       "      <td>...</td>\n",
       "      <td>...</td>\n",
       "    </tr>\n",
       "    <tr>\n",
       "      <th>88796</th>\n",
       "      <td>20221121106336</td>\n",
       "      <td>Accident</td>\n",
       "      <td>WPR23LA041</td>\n",
       "      <td>18-11-2022</td>\n",
       "      <td>Las Vegas, NV</td>\n",
       "      <td>United States</td>\n",
       "      <td>361239N</td>\n",
       "      <td>1151140W</td>\n",
       "      <td>VGT</td>\n",
       "      <td>NORTH LAS VEGAS</td>\n",
       "      <td>...</td>\n",
       "      <td>Instructional</td>\n",
       "      <td>702 HELICOPTER INC</td>\n",
       "      <td>0.0</td>\n",
       "      <td>0.0</td>\n",
       "      <td>0.0</td>\n",
       "      <td>3.0</td>\n",
       "      <td>VMC</td>\n",
       "      <td>NaN</td>\n",
       "      <td>NaN</td>\n",
       "      <td>07-12-2022</td>\n",
       "    </tr>\n",
       "    <tr>\n",
       "      <th>88797</th>\n",
       "      <td>20221122106340</td>\n",
       "      <td>Incident</td>\n",
       "      <td>DCA23WA071</td>\n",
       "      <td>18-11-2022</td>\n",
       "      <td>Marrakech,</td>\n",
       "      <td>Morocco</td>\n",
       "      <td>NaN</td>\n",
       "      <td>NaN</td>\n",
       "      <td>NaN</td>\n",
       "      <td>NaN</td>\n",
       "      <td>...</td>\n",
       "      <td>NaN</td>\n",
       "      <td>British Airways</td>\n",
       "      <td>0.0</td>\n",
       "      <td>0.0</td>\n",
       "      <td>0.0</td>\n",
       "      <td>0.0</td>\n",
       "      <td>NaN</td>\n",
       "      <td>NaN</td>\n",
       "      <td>NaN</td>\n",
       "      <td>NaN</td>\n",
       "    </tr>\n",
       "    <tr>\n",
       "      <th>88798</th>\n",
       "      <td>20221122106340</td>\n",
       "      <td>Incident</td>\n",
       "      <td>DCA23WA071</td>\n",
       "      <td>18-11-2022</td>\n",
       "      <td>Marrakech,</td>\n",
       "      <td>Morocco</td>\n",
       "      <td>NaN</td>\n",
       "      <td>NaN</td>\n",
       "      <td>NaN</td>\n",
       "      <td>NaN</td>\n",
       "      <td>...</td>\n",
       "      <td>NaN</td>\n",
       "      <td>Valair Private Jets</td>\n",
       "      <td>0.0</td>\n",
       "      <td>0.0</td>\n",
       "      <td>0.0</td>\n",
       "      <td>0.0</td>\n",
       "      <td>NaN</td>\n",
       "      <td>NaN</td>\n",
       "      <td>NaN</td>\n",
       "      <td>NaN</td>\n",
       "    </tr>\n",
       "    <tr>\n",
       "      <th>88813</th>\n",
       "      <td>20221123106354</td>\n",
       "      <td>Accident</td>\n",
       "      <td>WPR23LA045</td>\n",
       "      <td>22-11-2022</td>\n",
       "      <td>San Diego, CA</td>\n",
       "      <td>United States</td>\n",
       "      <td>323414N</td>\n",
       "      <td>1165825W</td>\n",
       "      <td>SDM</td>\n",
       "      <td>Brown Field Municipal Airport</td>\n",
       "      <td>...</td>\n",
       "      <td>Instructional</td>\n",
       "      <td>HeliStream Inc.</td>\n",
       "      <td>0.0</td>\n",
       "      <td>0.0</td>\n",
       "      <td>0.0</td>\n",
       "      <td>4.0</td>\n",
       "      <td>VMC</td>\n",
       "      <td>NaN</td>\n",
       "      <td>NaN</td>\n",
       "      <td>22-12-2022</td>\n",
       "    </tr>\n",
       "    <tr>\n",
       "      <th>88814</th>\n",
       "      <td>20221123106354</td>\n",
       "      <td>Accident</td>\n",
       "      <td>WPR23LA045</td>\n",
       "      <td>22-11-2022</td>\n",
       "      <td>San Diego, CA</td>\n",
       "      <td>United States</td>\n",
       "      <td>323414N</td>\n",
       "      <td>1165825W</td>\n",
       "      <td>SDM</td>\n",
       "      <td>Brown Field Municipal Airport</td>\n",
       "      <td>...</td>\n",
       "      <td>Public Aircraft - Federal</td>\n",
       "      <td>U.S. Navy</td>\n",
       "      <td>0.0</td>\n",
       "      <td>0.0</td>\n",
       "      <td>0.0</td>\n",
       "      <td>4.0</td>\n",
       "      <td>VMC</td>\n",
       "      <td>NaN</td>\n",
       "      <td>NaN</td>\n",
       "      <td>22-12-2022</td>\n",
       "    </tr>\n",
       "  </tbody>\n",
       "</table>\n",
       "<p>1874 rows × 31 columns</p>\n",
       "</div>"
      ],
      "text/plain": [
       "             Event_Id Investigation_Type Accident_Number  Event_Date  \\\n",
       "117    20020917X01908           Accident     DCA82AA012B  19-01-1982   \n",
       "118    20020917X01908           Accident     DCA82AA012A  19-01-1982   \n",
       "153    20020917X02259           Accident     LAX82FA049A  23-01-1982   \n",
       "158    20020917X02400           Accident     MIA82FA038B  23-01-1982   \n",
       "159    20020917X02400           Accident     MIA82FA038A  23-01-1982   \n",
       "...               ...                ...             ...         ...   \n",
       "88796  20221121106336           Accident      WPR23LA041  18-11-2022   \n",
       "88797  20221122106340           Incident      DCA23WA071  18-11-2022   \n",
       "88798  20221122106340           Incident      DCA23WA071  18-11-2022   \n",
       "88813  20221123106354           Accident      WPR23LA045  22-11-2022   \n",
       "88814  20221123106354           Accident      WPR23LA045  22-11-2022   \n",
       "\n",
       "                 Location        Country Latitude Longitude Airport_Code  \\\n",
       "117          ROCKPORT, TX  United States      NaN       NaN          RKP   \n",
       "118          ROCKPORT, TX  United States      NaN       NaN          RKP   \n",
       "153       VICTORVILLE, CA  United States      NaN       NaN          NaN   \n",
       "158    NEWPORT RICHEY, FL  United States      NaN       NaN          NaN   \n",
       "159    NEWPORT RICHEY, FL  United States      NaN       NaN          NaN   \n",
       "...                   ...            ...      ...       ...          ...   \n",
       "88796       Las Vegas, NV  United States  361239N  1151140W          VGT   \n",
       "88797         Marrakech,         Morocco      NaN       NaN          NaN   \n",
       "88798         Marrakech,         Morocco      NaN       NaN          NaN   \n",
       "88813       San Diego, CA  United States  323414N  1165825W          SDM   \n",
       "88814       San Diego, CA  United States  323414N  1165825W          SDM   \n",
       "\n",
       "                        Airport_Name  ...          Purpose_of_flight  \\\n",
       "117           ARANSAS COUNTY AIRPORT  ...                   Personal   \n",
       "118           ARANSAS COUNTY AIRPORT  ...        Executive/corporate   \n",
       "153                              NaN  ...                   Personal   \n",
       "158                              NaN  ...                   Personal   \n",
       "159                              NaN  ...                   Personal   \n",
       "...                              ...  ...                        ...   \n",
       "88796                NORTH LAS VEGAS  ...              Instructional   \n",
       "88797                            NaN  ...                        NaN   \n",
       "88798                            NaN  ...                        NaN   \n",
       "88813  Brown Field Municipal Airport  ...              Instructional   \n",
       "88814  Brown Field Municipal Airport  ...  Public Aircraft - Federal   \n",
       "\n",
       "               Air_carrier Total_Fatal_Injuries Total_Serious_Injuries  \\\n",
       "117                    NaN                  3.0                    0.0   \n",
       "118                    NaN                  3.0                    0.0   \n",
       "153                    NaN                  2.0                    0.0   \n",
       "158                    NaN                  0.0                    0.0   \n",
       "159                    NaN                  0.0                    0.0   \n",
       "...                    ...                  ...                    ...   \n",
       "88796   702 HELICOPTER INC                  0.0                    0.0   \n",
       "88797      British Airways                  0.0                    0.0   \n",
       "88798  Valair Private Jets                  0.0                    0.0   \n",
       "88813      HeliStream Inc.                  0.0                    0.0   \n",
       "88814            U.S. Navy                  0.0                    0.0   \n",
       "\n",
       "      Total_Minor_Injuries Total_Uninjured Weather_Condition  \\\n",
       "117                    0.0             0.0               IMC   \n",
       "118                    0.0             0.0               IMC   \n",
       "153                    4.0             0.0               VMC   \n",
       "158                    0.0             3.0               VMC   \n",
       "159                    0.0             3.0               VMC   \n",
       "...                    ...             ...               ...   \n",
       "88796                  0.0             3.0               VMC   \n",
       "88797                  0.0             0.0               NaN   \n",
       "88798                  0.0             0.0               NaN   \n",
       "88813                  0.0             4.0               VMC   \n",
       "88814                  0.0             4.0               VMC   \n",
       "\n",
       "       Broad_phase_of_flight   Report_Status Publication_Date  \n",
       "117                 Approach  Probable Cause       19-01-1983  \n",
       "118                 Approach  Probable Cause       19-01-1983  \n",
       "153                  Unknown  Probable Cause       23-01-1983  \n",
       "158                   Cruise  Probable Cause       23-01-1983  \n",
       "159                 Approach  Probable Cause       23-01-1983  \n",
       "...                      ...             ...              ...  \n",
       "88796                    NaN             NaN       07-12-2022  \n",
       "88797                    NaN             NaN              NaN  \n",
       "88798                    NaN             NaN              NaN  \n",
       "88813                    NaN             NaN       22-12-2022  \n",
       "88814                    NaN             NaN       22-12-2022  \n",
       "\n",
       "[1874 rows x 31 columns]"
      ]
     },
     "execution_count": 479,
     "metadata": {},
     "output_type": "execute_result"
    }
   ],
   "source": [
    "#filter out the duplicated indices data\n",
    "filtered_data=aviation_data.loc[duplicated_indices]\n",
    "filtered_data"
   ]
  },
  {
   "cell_type": "code",
   "execution_count": 480,
   "metadata": {},
   "outputs": [
    {
     "data": {
      "text/plain": [
       "(1874, 31)"
      ]
     },
     "execution_count": 480,
     "metadata": {},
     "output_type": "execute_result"
    }
   ],
   "source": [
    "# get the number of  columns and rows of the duplicated data\n",
    "filtered_data.shape"
   ]
  },
  {
   "cell_type": "code",
   "execution_count": 481,
   "metadata": {},
   "outputs": [
    {
     "data": {
      "text/html": [
       "<div>\n",
       "<style scoped>\n",
       "    .dataframe tbody tr th:only-of-type {\n",
       "        vertical-align: middle;\n",
       "    }\n",
       "\n",
       "    .dataframe tbody tr th {\n",
       "        vertical-align: top;\n",
       "    }\n",
       "\n",
       "    .dataframe thead th {\n",
       "        text-align: right;\n",
       "    }\n",
       "</style>\n",
       "<table border=\"1\" class=\"dataframe\">\n",
       "  <thead>\n",
       "    <tr style=\"text-align: right;\">\n",
       "      <th></th>\n",
       "      <th>Event_Id</th>\n",
       "      <th>Investigation_Type</th>\n",
       "      <th>Accident_Number</th>\n",
       "      <th>Event_Date</th>\n",
       "      <th>Location</th>\n",
       "      <th>Country</th>\n",
       "      <th>Latitude</th>\n",
       "      <th>Longitude</th>\n",
       "      <th>Airport_Code</th>\n",
       "      <th>Airport_Name</th>\n",
       "      <th>...</th>\n",
       "      <th>Purpose_of_flight</th>\n",
       "      <th>Air_carrier</th>\n",
       "      <th>Total_Fatal_Injuries</th>\n",
       "      <th>Total_Serious_Injuries</th>\n",
       "      <th>Total_Minor_Injuries</th>\n",
       "      <th>Total_Uninjured</th>\n",
       "      <th>Weather_Condition</th>\n",
       "      <th>Broad_phase_of_flight</th>\n",
       "      <th>Report_Status</th>\n",
       "      <th>Publication_Date</th>\n",
       "    </tr>\n",
       "  </thead>\n",
       "  <tbody>\n",
       "    <tr>\n",
       "      <th>117</th>\n",
       "      <td>20020917X01908</td>\n",
       "      <td>Accident</td>\n",
       "      <td>DCA82AA012B</td>\n",
       "      <td>19-01-1982</td>\n",
       "      <td>ROCKPORT, TX</td>\n",
       "      <td>United States</td>\n",
       "      <td>NaN</td>\n",
       "      <td>NaN</td>\n",
       "      <td>RKP</td>\n",
       "      <td>ARANSAS COUNTY AIRPORT</td>\n",
       "      <td>...</td>\n",
       "      <td>Personal</td>\n",
       "      <td>NaN</td>\n",
       "      <td>3.0</td>\n",
       "      <td>0.0</td>\n",
       "      <td>0.0</td>\n",
       "      <td>0.0</td>\n",
       "      <td>IMC</td>\n",
       "      <td>Approach</td>\n",
       "      <td>Probable Cause</td>\n",
       "      <td>19-01-1983</td>\n",
       "    </tr>\n",
       "    <tr>\n",
       "      <th>118</th>\n",
       "      <td>20020917X01908</td>\n",
       "      <td>Accident</td>\n",
       "      <td>DCA82AA012A</td>\n",
       "      <td>19-01-1982</td>\n",
       "      <td>ROCKPORT, TX</td>\n",
       "      <td>United States</td>\n",
       "      <td>NaN</td>\n",
       "      <td>NaN</td>\n",
       "      <td>RKP</td>\n",
       "      <td>ARANSAS COUNTY AIRPORT</td>\n",
       "      <td>...</td>\n",
       "      <td>Executive/corporate</td>\n",
       "      <td>NaN</td>\n",
       "      <td>3.0</td>\n",
       "      <td>0.0</td>\n",
       "      <td>0.0</td>\n",
       "      <td>0.0</td>\n",
       "      <td>IMC</td>\n",
       "      <td>Approach</td>\n",
       "      <td>Probable Cause</td>\n",
       "      <td>19-01-1983</td>\n",
       "    </tr>\n",
       "  </tbody>\n",
       "</table>\n",
       "<p>2 rows × 31 columns</p>\n",
       "</div>"
      ],
      "text/plain": [
       "           Event_Id Investigation_Type Accident_Number  Event_Date  \\\n",
       "117  20020917X01908           Accident     DCA82AA012B  19-01-1982   \n",
       "118  20020917X01908           Accident     DCA82AA012A  19-01-1982   \n",
       "\n",
       "         Location        Country Latitude Longitude Airport_Code  \\\n",
       "117  ROCKPORT, TX  United States      NaN       NaN          RKP   \n",
       "118  ROCKPORT, TX  United States      NaN       NaN          RKP   \n",
       "\n",
       "               Airport_Name  ...    Purpose_of_flight Air_carrier  \\\n",
       "117  ARANSAS COUNTY AIRPORT  ...             Personal         NaN   \n",
       "118  ARANSAS COUNTY AIRPORT  ...  Executive/corporate         NaN   \n",
       "\n",
       "    Total_Fatal_Injuries Total_Serious_Injuries Total_Minor_Injuries  \\\n",
       "117                  3.0                    0.0                  0.0   \n",
       "118                  3.0                    0.0                  0.0   \n",
       "\n",
       "    Total_Uninjured Weather_Condition  Broad_phase_of_flight   Report_Status  \\\n",
       "117             0.0               IMC               Approach  Probable Cause   \n",
       "118             0.0               IMC               Approach  Probable Cause   \n",
       "\n",
       "    Publication_Date  \n",
       "117       19-01-1983  \n",
       "118       19-01-1983  \n",
       "\n",
       "[2 rows x 31 columns]"
      ]
     },
     "execution_count": 481,
     "metadata": {},
     "output_type": "execute_result"
    }
   ],
   "source": [
    "#filter Event Id '20020917X01908'\n",
    "sample=aviation_data[aviation_data['Event_Id']=='20020917X01908']\n",
    "sample"
   ]
  },
  {
   "cell_type": "code",
   "execution_count": 482,
   "metadata": {},
   "outputs": [],
   "source": [
    "#drop the duplicates : keep the first entries only\n",
    "aviation_data.drop_duplicates(subset='Event_Id', keep='first', inplace=True)\n"
   ]
  },
  {
   "cell_type": "code",
   "execution_count": 483,
   "metadata": {},
   "outputs": [
    {
     "data": {
      "text/plain": [
       "0"
      ]
     },
     "execution_count": 483,
     "metadata": {},
     "output_type": "execute_result"
    }
   ],
   "source": [
    "# checking for the sum of duplicates in the unique entries \n",
    "#To confirm whether they have been removed\n",
    "aviation_data.duplicated(subset='Event_Id').sum()\n"
   ]
  },
  {
   "cell_type": "markdown",
   "metadata": {
    "id": "N2niBXhPE2J5"
   },
   "source": [
    "## Data completeness"
   ]
  },
  {
   "cell_type": "markdown",
   "metadata": {
    "id": "wC3-QRJGE9J0"
   },
   "source": [
    "The completeness of data is very crucial to any analysis as incomplete data can compromise your analysis as some processes may be impossible to perform and your results will be inaccurate, biased or invaluable. It can limit our ability to do important things like;\n",
    "\n",
    "*   Convert datatypes\n",
    "*   Perform summary statistics\n",
    "*   Visualize data\n",
    "\n",
    "These were the reasons we needed to ensure the completeness of our data."
   ]
  },
  {
   "cell_type": "markdown",
   "metadata": {},
   "source": [
    "### Checking for missing values"
   ]
  },
  {
   "cell_type": "code",
   "execution_count": 484,
   "metadata": {},
   "outputs": [
    {
     "data": {
      "text/plain": [
       "Event_Id                  False\n",
       "Investigation_Type        False\n",
       "Accident_Number           False\n",
       "Event_Date                False\n",
       "Location                   True\n",
       "Country                    True\n",
       "Latitude                   True\n",
       "Longitude                  True\n",
       "Airport_Code               True\n",
       "Airport_Name               True\n",
       "Injury_Severity            True\n",
       "Aircraft_damage            True\n",
       "Aircraft_Category          True\n",
       "Registration_Number        True\n",
       "Make                       True\n",
       "Model                      True\n",
       "Amateur_Built              True\n",
       "Number_of_Engines          True\n",
       "Engine_Type                True\n",
       "FAR_Description            True\n",
       "Schedule                   True\n",
       "Purpose_of_flight          True\n",
       "Air_carrier                True\n",
       "Total_Fatal_Injuries       True\n",
       "Total_Serious_Injuries     True\n",
       "Total_Minor_Injuries       True\n",
       "Total_Uninjured            True\n",
       "Weather_Condition          True\n",
       "Broad_phase_of_flight      True\n",
       "Report_Status              True\n",
       "Publication_Date           True\n",
       "dtype: bool"
      ]
     },
     "execution_count": 484,
     "metadata": {},
     "output_type": "execute_result"
    }
   ],
   "source": [
    "# check for missing values\n",
    "aviation_data.isnull().any()"
   ]
  },
  {
   "cell_type": "code",
   "execution_count": 485,
   "metadata": {},
   "outputs": [
    {
     "data": {
      "text/plain": [
       "Schedule                  75591\n",
       "Air_carrier               71418\n",
       "FAR_Description           56036\n",
       "Aircraft_Category         55770\n",
       "Longitude                 53748\n",
       "Latitude                  53739\n",
       "Airport_Code              38467\n",
       "Airport_Name              35920\n",
       "Broad_phase_of_flight     27114\n",
       "Publication_Date          13599\n",
       "Total_Serious_Injuries    12322\n",
       "Total_Minor_Injuries      11760\n",
       "Total_Fatal_Injuries      11267\n",
       "Engine_Type                7043\n",
       "Report_Status              6364\n",
       "Purpose_of_flight          6122\n",
       "Number_of_Engines          6027\n",
       "Total_Uninjured            5863\n",
       "Weather_Condition          4473\n",
       "Aircraft_damage            3103\n",
       "Registration_Number        1350\n",
       "Injury_Severity             990\n",
       "Country                     222\n",
       "Amateur_Built               100\n",
       "Model                        92\n",
       "Make                         63\n",
       "Location                     52\n",
       "Investigation_Type            0\n",
       "Event_Date                    0\n",
       "Accident_Number               0\n",
       "Event_Id                      0\n",
       "dtype: int64"
      ]
     },
     "execution_count": 485,
     "metadata": {},
     "output_type": "execute_result"
    }
   ],
   "source": [
    "# count of missing values per column\n",
    "missing=aviation_data.isnull().sum()\n",
    "# sort the values in ascending order\n",
    "missing.sort_values(ascending=False)"
   ]
  },
  {
   "cell_type": "code",
   "execution_count": 486,
   "metadata": {},
   "outputs": [
    {
     "data": {
      "text/plain": [
       "Event_Id                   0.00\n",
       "Investigation_Type         0.00\n",
       "Accident_Number            0.00\n",
       "Event_Date                 0.00\n",
       "Location                   0.06\n",
       "Country                    0.25\n",
       "Latitude                  61.10\n",
       "Longitude                 61.11\n",
       "Airport_Code              43.74\n",
       "Airport_Name              40.84\n",
       "Injury_Severity            1.13\n",
       "Aircraft_damage            3.53\n",
       "Aircraft_Category         63.41\n",
       "Registration_Number        1.53\n",
       "Make                       0.07\n",
       "Model                      0.10\n",
       "Amateur_Built              0.11\n",
       "Number_of_Engines          6.85\n",
       "Engine_Type                8.01\n",
       "FAR_Description           63.71\n",
       "Schedule                  85.95\n",
       "Purpose_of_flight          6.96\n",
       "Air_carrier               81.20\n",
       "Total_Fatal_Injuries      12.81\n",
       "Total_Serious_Injuries    14.01\n",
       "Total_Minor_Injuries      13.37\n",
       "Total_Uninjured            6.67\n",
       "Weather_Condition          5.09\n",
       "Broad_phase_of_flight     30.83\n",
       "Report_Status              7.24\n",
       "Publication_Date          15.46\n",
       "dtype: float64"
      ]
     },
     "execution_count": 486,
     "metadata": {},
     "output_type": "execute_result"
    }
   ],
   "source": [
    "# calculate the percentage of missing data\n",
    "percentage_missing=np.round((aviation_data.isnull().sum() /len(aviation_data) *100),2)\n",
    "percentage_missing"
   ]
  },
  {
   "cell_type": "markdown",
   "metadata": {},
   "source": [
    "Now that we have seen the percentage of missing values in each column, we want to create a dataframe to visualize  the percentage with the count. W will also drop the columns without missing data."
   ]
  },
  {
   "cell_type": "code",
   "execution_count": 487,
   "metadata": {},
   "outputs": [],
   "source": [
    "# store in dataframe\n",
    "miss_data = pd.DataFrame({\n",
    "    \"Count\": missing.values,\n",
    "    \"%\": percentage_missing.values\n",
    "}, index=missing.index)\n",
    "\n",
    "# drop values where count is 0\n",
    "miss_data.drop(miss_data[miss_data['Count']==0].index, inplace=True)\n",
    "\n",
    "#sort values in descending order\n",
    "miss_data.sort_values(by='Count',ascending=False,inplace=True)"
   ]
  },
  {
   "cell_type": "code",
   "execution_count": 488,
   "metadata": {},
   "outputs": [
    {
     "data": {
      "text/plain": [
       "Index([], dtype='object')"
      ]
     },
     "execution_count": 488,
     "metadata": {},
     "output_type": "execute_result"
    }
   ],
   "source": [
    "# get the index of the DataFrame where col count has value as 0\n",
    "miss_data[miss_data['Count'] == 0].index"
   ]
  },
  {
   "cell_type": "code",
   "execution_count": 489,
   "metadata": {},
   "outputs": [
    {
     "data": {
      "text/html": [
       "<div>\n",
       "<style scoped>\n",
       "    .dataframe tbody tr th:only-of-type {\n",
       "        vertical-align: middle;\n",
       "    }\n",
       "\n",
       "    .dataframe tbody tr th {\n",
       "        vertical-align: top;\n",
       "    }\n",
       "\n",
       "    .dataframe thead th {\n",
       "        text-align: right;\n",
       "    }\n",
       "</style>\n",
       "<table border=\"1\" class=\"dataframe\">\n",
       "  <thead>\n",
       "    <tr style=\"text-align: right;\">\n",
       "      <th></th>\n",
       "      <th>Count</th>\n",
       "      <th>%</th>\n",
       "    </tr>\n",
       "  </thead>\n",
       "  <tbody>\n",
       "    <tr>\n",
       "      <th>Schedule</th>\n",
       "      <td>75591</td>\n",
       "      <td>85.95</td>\n",
       "    </tr>\n",
       "    <tr>\n",
       "      <th>Air_carrier</th>\n",
       "      <td>71418</td>\n",
       "      <td>81.20</td>\n",
       "    </tr>\n",
       "    <tr>\n",
       "      <th>FAR_Description</th>\n",
       "      <td>56036</td>\n",
       "      <td>63.71</td>\n",
       "    </tr>\n",
       "    <tr>\n",
       "      <th>Aircraft_Category</th>\n",
       "      <td>55770</td>\n",
       "      <td>63.41</td>\n",
       "    </tr>\n",
       "    <tr>\n",
       "      <th>Longitude</th>\n",
       "      <td>53748</td>\n",
       "      <td>61.11</td>\n",
       "    </tr>\n",
       "    <tr>\n",
       "      <th>Latitude</th>\n",
       "      <td>53739</td>\n",
       "      <td>61.10</td>\n",
       "    </tr>\n",
       "    <tr>\n",
       "      <th>Airport_Code</th>\n",
       "      <td>38467</td>\n",
       "      <td>43.74</td>\n",
       "    </tr>\n",
       "    <tr>\n",
       "      <th>Airport_Name</th>\n",
       "      <td>35920</td>\n",
       "      <td>40.84</td>\n",
       "    </tr>\n",
       "    <tr>\n",
       "      <th>Broad_phase_of_flight</th>\n",
       "      <td>27114</td>\n",
       "      <td>30.83</td>\n",
       "    </tr>\n",
       "    <tr>\n",
       "      <th>Publication_Date</th>\n",
       "      <td>13599</td>\n",
       "      <td>15.46</td>\n",
       "    </tr>\n",
       "    <tr>\n",
       "      <th>Total_Serious_Injuries</th>\n",
       "      <td>12322</td>\n",
       "      <td>14.01</td>\n",
       "    </tr>\n",
       "    <tr>\n",
       "      <th>Total_Minor_Injuries</th>\n",
       "      <td>11760</td>\n",
       "      <td>13.37</td>\n",
       "    </tr>\n",
       "    <tr>\n",
       "      <th>Total_Fatal_Injuries</th>\n",
       "      <td>11267</td>\n",
       "      <td>12.81</td>\n",
       "    </tr>\n",
       "    <tr>\n",
       "      <th>Engine_Type</th>\n",
       "      <td>7043</td>\n",
       "      <td>8.01</td>\n",
       "    </tr>\n",
       "    <tr>\n",
       "      <th>Report_Status</th>\n",
       "      <td>6364</td>\n",
       "      <td>7.24</td>\n",
       "    </tr>\n",
       "    <tr>\n",
       "      <th>Purpose_of_flight</th>\n",
       "      <td>6122</td>\n",
       "      <td>6.96</td>\n",
       "    </tr>\n",
       "    <tr>\n",
       "      <th>Number_of_Engines</th>\n",
       "      <td>6027</td>\n",
       "      <td>6.85</td>\n",
       "    </tr>\n",
       "    <tr>\n",
       "      <th>Total_Uninjured</th>\n",
       "      <td>5863</td>\n",
       "      <td>6.67</td>\n",
       "    </tr>\n",
       "    <tr>\n",
       "      <th>Weather_Condition</th>\n",
       "      <td>4473</td>\n",
       "      <td>5.09</td>\n",
       "    </tr>\n",
       "    <tr>\n",
       "      <th>Aircraft_damage</th>\n",
       "      <td>3103</td>\n",
       "      <td>3.53</td>\n",
       "    </tr>\n",
       "    <tr>\n",
       "      <th>Registration_Number</th>\n",
       "      <td>1350</td>\n",
       "      <td>1.53</td>\n",
       "    </tr>\n",
       "    <tr>\n",
       "      <th>Injury_Severity</th>\n",
       "      <td>990</td>\n",
       "      <td>1.13</td>\n",
       "    </tr>\n",
       "    <tr>\n",
       "      <th>Country</th>\n",
       "      <td>222</td>\n",
       "      <td>0.25</td>\n",
       "    </tr>\n",
       "    <tr>\n",
       "      <th>Amateur_Built</th>\n",
       "      <td>100</td>\n",
       "      <td>0.11</td>\n",
       "    </tr>\n",
       "    <tr>\n",
       "      <th>Model</th>\n",
       "      <td>92</td>\n",
       "      <td>0.10</td>\n",
       "    </tr>\n",
       "    <tr>\n",
       "      <th>Make</th>\n",
       "      <td>63</td>\n",
       "      <td>0.07</td>\n",
       "    </tr>\n",
       "    <tr>\n",
       "      <th>Location</th>\n",
       "      <td>52</td>\n",
       "      <td>0.06</td>\n",
       "    </tr>\n",
       "  </tbody>\n",
       "</table>\n",
       "</div>"
      ],
      "text/plain": [
       "                        Count      %\n",
       "Schedule                75591  85.95\n",
       "Air_carrier             71418  81.20\n",
       "FAR_Description         56036  63.71\n",
       "Aircraft_Category       55770  63.41\n",
       "Longitude               53748  61.11\n",
       "Latitude                53739  61.10\n",
       "Airport_Code            38467  43.74\n",
       "Airport_Name            35920  40.84\n",
       "Broad_phase_of_flight   27114  30.83\n",
       "Publication_Date        13599  15.46\n",
       "Total_Serious_Injuries  12322  14.01\n",
       "Total_Minor_Injuries    11760  13.37\n",
       "Total_Fatal_Injuries    11267  12.81\n",
       "Engine_Type              7043   8.01\n",
       "Report_Status            6364   7.24\n",
       "Purpose_of_flight        6122   6.96\n",
       "Number_of_Engines        6027   6.85\n",
       "Total_Uninjured          5863   6.67\n",
       "Weather_Condition        4473   5.09\n",
       "Aircraft_damage          3103   3.53\n",
       "Registration_Number      1350   1.53\n",
       "Injury_Severity           990   1.13\n",
       "Country                   222   0.25\n",
       "Amateur_Built             100   0.11\n",
       "Model                      92   0.10\n",
       "Make                       63   0.07\n",
       "Location                   52   0.06"
      ]
     },
     "execution_count": 489,
     "metadata": {},
     "output_type": "execute_result"
    }
   ],
   "source": [
    "miss_data"
   ]
  },
  {
   "cell_type": "markdown",
   "metadata": {},
   "source": [
    "### Handling missing values"
   ]
  },
  {
   "cell_type": "markdown",
   "metadata": {},
   "source": [
    "From the data we have gathered above, we'll need to observe these columns and analyse the column details to know how to handle the missing values. The ways in which  we can handle the missing data are:\n",
    "\n",
    "* Backward/forward fill\n",
    "* Dropping the columns with missing values\n",
    "* Replacing with mean/mode or median\n",
    "\n",
    "\n",
    "The column **schedule** has the highest percentage of missing values and since it will not be an  important column for our analysis we will just have to drop the entire column. There is also so much data that is unknown. \n",
    "We'll also drop **FAR_Description** column as it is not useful in our analysis"
   ]
  },
  {
   "cell_type": "code",
   "execution_count": 490,
   "metadata": {},
   "outputs": [
    {
     "data": {
      "text/plain": [
       "Index(['Event_Id', 'Investigation_Type', 'Accident_Number', 'Event_Date',\n",
       "       'Location', 'Country', 'Latitude', 'Longitude', 'Airport_Code',\n",
       "       'Airport_Name', 'Injury_Severity', 'Aircraft_damage',\n",
       "       'Aircraft_Category', 'Registration_Number', 'Make', 'Model',\n",
       "       'Amateur_Built', 'Number_of_Engines', 'Engine_Type',\n",
       "       'Purpose_of_flight', 'Air_carrier', 'Total_Fatal_Injuries',\n",
       "       'Total_Serious_Injuries', 'Total_Minor_Injuries', 'Total_Uninjured',\n",
       "       'Weather_Condition', 'Broad_phase_of_flight', 'Report_Status',\n",
       "       'Publication_Date'],\n",
       "      dtype='object')"
      ]
     },
     "execution_count": 490,
     "metadata": {},
     "output_type": "execute_result"
    }
   ],
   "source": [
    "#dropping the column Schedule with the highest percentage of missing values\n",
    "#Dropping the FAR_Description column because it is of no use to our analysis\n",
    "columns_to_drop = ['Schedule', 'FAR_Description']\n",
    "\n",
    "# Use a for loop to drop columns one by one\n",
    "for col in columns_to_drop:\n",
    "    aviation_data.drop(col, axis=1, inplace=True)\n",
    "\n",
    "# Checking whether the column has been dropped\n",
    "aviation_data.columns\n",
    "\n"
   ]
  },
  {
   "cell_type": "code",
   "execution_count": 491,
   "metadata": {},
   "outputs": [
    {
     "data": {
      "text/plain": [
       "(87951, 29)"
      ]
     },
     "execution_count": 491,
     "metadata": {},
     "output_type": "execute_result"
    }
   ],
   "source": [
    "# checking the shape to know whether the columns have been dropped\n",
    "aviation_data.shape"
   ]
  },
  {
   "cell_type": "markdown",
   "metadata": {},
   "source": [
    "The **Air_carrier** column also has a big percentage of missing data however the details could be very important in determining the companythat was maintaining the aircraft during the time of the accident. So we will use ffill or bfill assuming the company's were the same"
   ]
  },
  {
   "cell_type": "code",
   "execution_count": 493,
   "metadata": {},
   "outputs": [],
   "source": [
    "#using ffill  $ bfillto replace the missing values in aircraft category \n",
    "# because the values are predicted to be the same\n",
    "aviation_data['Aircraft_Category'].ffill(inplace=True)\n",
    "aviation_data['Aircraft_Category'].bfill(inplace=True)\n"
   ]
  },
  {
   "cell_type": "code",
   "execution_count": 494,
   "metadata": {},
   "outputs": [
    {
     "data": {
      "text/plain": [
       "0"
      ]
     },
     "execution_count": 494,
     "metadata": {},
     "output_type": "execute_result"
    }
   ],
   "source": [
    "# checking for any null values in aircraft category\n",
    "aviation_data['Aircraft_Category'].isna().sum()\n"
   ]
  },
  {
   "cell_type": "markdown",
   "metadata": {},
   "source": [
    "The **Location** column has the least percentage of missing values in our dataset. We will drop the rows with missing values in the column"
   ]
  },
  {
   "cell_type": "code",
   "execution_count": 495,
   "metadata": {},
   "outputs": [
    {
     "data": {
      "text/plain": [
       "0"
      ]
     },
     "execution_count": 495,
     "metadata": {},
     "output_type": "execute_result"
    }
   ],
   "source": [
    "# to drop missing row values in the Location and Make  columns\n",
    "aviation_data.dropna(subset=['Location','Make','Model'], inplace=True)\n",
    "\n",
    "# check whether missing values have been dropped\n",
    "aviation_data['Location'].isna().sum()\n",
    "aviation_data['Make'].isna().sum()\n",
    "aviation_data['Model'].isna().sum()\n"
   ]
  },
  {
   "cell_type": "code",
   "execution_count": 496,
   "metadata": {},
   "outputs": [
    {
     "data": {
      "text/plain": [
       "0"
      ]
     },
     "execution_count": 496,
     "metadata": {},
     "output_type": "execute_result"
    }
   ],
   "source": [
    "aviation_data['Model'].isna().sum()"
   ]
  },
  {
   "cell_type": "markdown",
   "metadata": {},
   "source": [
    "Now the Location, Model and Make columns have no missing values. Now let's look at the engine type data"
   ]
  },
  {
   "cell_type": "code",
   "execution_count": 497,
   "metadata": {},
   "outputs": [
    {
     "data": {
      "text/plain": [
       "0        Reciprocating\n",
       "1        Reciprocating\n",
       "2        Reciprocating\n",
       "3        Reciprocating\n",
       "4                  NaN\n",
       "             ...      \n",
       "88884              NaN\n",
       "88885              NaN\n",
       "88886              NaN\n",
       "88887              NaN\n",
       "88888              NaN\n",
       "Name: Engine_Type, Length: 87787, dtype: object"
      ]
     },
     "execution_count": 497,
     "metadata": {},
     "output_type": "execute_result"
    }
   ],
   "source": [
    "# To preview the Enginetype series\n",
    "aviation_data['Engine_Type']"
   ]
  },
  {
   "cell_type": "markdown",
   "metadata": {},
   "source": [
    "The date looks like it is repetitive so we can assume the missing values also have the same data. Hence we can use forward fill or backward fill"
   ]
  },
  {
   "cell_type": "code",
   "execution_count": 498,
   "metadata": {},
   "outputs": [],
   "source": [
    "# Filling missing values with forward fill\n",
    "aviation_data['Engine_Type'].ffill(inplace=True)"
   ]
  },
  {
   "cell_type": "code",
   "execution_count": 499,
   "metadata": {},
   "outputs": [
    {
     "data": {
      "text/plain": [
       "0"
      ]
     },
     "execution_count": 499,
     "metadata": {},
     "output_type": "execute_result"
    }
   ],
   "source": [
    "# checking whether missing values have been replaced\n",
    "aviation_data['Engine_Type'].isna().sum()"
   ]
  },
  {
   "cell_type": "markdown",
   "metadata": {},
   "source": [
    "Moving on swiftly, the **total injuries, total fatalities and total minor injuries** are numerical columns. Because there are many missing values, we can only assume that there are null values because the aircraft and passengers details are unknown"
   ]
  },
  {
   "cell_type": "code",
   "execution_count": 500,
   "metadata": {},
   "outputs": [],
   "source": [
    "# Assuming those with total fatal injuries,total serious injuries total minor injuries  and total uninjured are  unknown \n",
    "# We'll replace the null values with 0\n",
    "\n",
    "\n",
    "aviation_data[['Total_Fatal_Injuries', 'Total_Serious_Injuries', 'Total_Minor_Injuries', 'Total_Uninjured']] = \\\n",
    "    aviation_data[['Total_Fatal_Injuries', 'Total_Serious_Injuries', 'Total_Minor_Injuries', 'Total_Uninjured']].fillna(0)\n",
    "\n",
    "\n",
    "\n"
   ]
  },
  {
   "cell_type": "markdown",
   "metadata": {},
   "source": [
    "To deal with missing values in the **Number of Engines** column, we need to find out the distriburtion of the column data to know whether we can use the median or the mean. We can also decide to replace the NaN values with placeholder value 0."
   ]
  },
  {
   "cell_type": "code",
   "execution_count": 501,
   "metadata": {},
   "outputs": [
    {
     "data": {
      "image/png": "[encoded data removed]",
      "text/plain": [
       "<Figure size 792x360 with 1 Axes>"
      ]
     },
     "metadata": {
      "needs_background": "light"
     },
     "output_type": "display_data"
    }
   ],
   "source": [
    "fig, ax = plt.subplots(1, 1, figsize=(11, 5))  # Single subplot\n",
    "\n",
    "# Plotting the histogram to check the distribution of the Number of Engines column\n",
    "ax.hist(aviation_data['Number_of_Engines'], bins=10, color='blue', alpha=0.7)\n",
    "\n",
    "# Setting title and labels\n",
    "ax.set_title('Histogram of Number of Engines')\n",
    "ax.set_xlabel('Number of Engines')\n",
    "ax.set_ylabel('Frequency')\n",
    "\n",
    "# Show plot\n",
    "plt.show()"
   ]
  },
  {
   "cell_type": "markdown",
   "metadata": {},
   "source": [
    "The data distribution is relatively normal, replacing missing values with the mean of the column makes more sense."
   ]
  },
  {
   "cell_type": "code",
   "execution_count": 502,
   "metadata": {},
   "outputs": [
    {
     "data": {
      "text/plain": [
       "0"
      ]
     },
     "execution_count": 502,
     "metadata": {},
     "output_type": "execute_result"
    }
   ],
   "source": [
    "\n",
    "# Replace NaN values with the mean of the 'Number_of_Engines' column\n",
    "aviation_data['Number_of_Engines'].fillna(aviation_data['Number_of_Engines'].mean(), inplace=True)\n",
    "\n",
    "# Round the values to two decimal places\n",
    "aviation_data['Number_of_Engines'] = np.round(aviation_data['Number_of_Engines'], 2)\n",
    "\n",
    "\n",
    "# checking for presence of missing values\n",
    "aviation_data['Number_of_Engines'].isna().sum()\n"
   ]
  },
  {
   "cell_type": "markdown",
   "metadata": {},
   "source": [
    "We'll check the distribution of the Longitude and Lattitude columns as well to determine how to deal with the missing data."
   ]
  },
  {
   "cell_type": "code",
   "execution_count": 394,
   "metadata": {},
   "outputs": [
    {
     "data": {
      "image/png": "[encoded data removed]",
      "text/plain": [
       "<Figure size 1080x360 with 2 Axes>"
      ]
     },
     "metadata": {
      "needs_background": "light"
     },
     "output_type": "display_data"
    }
   ],
   "source": [
    "\n",
    "latitude_sample = aviation_data['Latitude'].dropna().sample(frac=0.1, random_state=42)\n",
    "longitude_sample = aviation_data['Longitude'].dropna().sample(frac=0.1, random_state=42)\n",
    "\n",
    "# Creating a figure with 2 plots\n",
    "fig, axs = plt.subplots(1, 2, figsize=(15, 5))\n",
    "\n",
    "\n",
    "# Plot histograms for sampled data\n",
    "axs[0].hist(latitude_sample, bins=8, color='skyblue', alpha=0.7, edgecolor='black')\n",
    "\n",
    "axs[0].set_title('Histogram of Latitude')\n",
    "axs[0].set_xlabel('Latitude')\n",
    "axs[0].set_ylabel('Frequency')\n",
    "\n",
    "\n",
    "# Plot histogram for Longitude\n",
    "axs[1].hist(longitude_sample, bins=8, color='salmon', alpha=0.7, edgecolor='black')\n",
    "axs[1].set_title('Histogram of Longitude')\n",
    "axs[1].set_xlabel('Longitude')\n",
    "axs[1].set_ylabel('Frequency')\n",
    "\n",
    "# Show the plot\n",
    "plt.tight_layout()\n",
    "plt.show() \n"
   ]
  },
  {
   "cell_type": "markdown",
   "metadata": {},
   "source": [
    "From the histogram we cold see that the data in **Lattitude**  and **Longitude** Columns are **Skewed Distributions** This means we can only replace the missing values with the median and not the mean because mean is used to replace normal distributions.\n",
    "\n"
   ]
  },
  {
   "cell_type": "code",
   "execution_count": 503,
   "metadata": {},
   "outputs": [
    {
     "data": {
      "text/plain": [
       "0"
      ]
     },
     "execution_count": 503,
     "metadata": {},
     "output_type": "execute_result"
    }
   ],
   "source": [
    "\n",
    "#We notice some structural issues that we need to strip off first\n",
    "aviation_data['Latitude']\n",
    "\n",
    "\n",
    "# Remove non-numeric characters (keep only digits and decimal point)\n",
    "aviation_data['Latitude'] = aviation_data['Latitude'].replace(r'[^\\d.-]', '', regex=True).astype(float)\n",
    "aviation_data['Longitude'] = aviation_data['Longitude'].replace(r'[^\\d.-]', '', regex=True).astype(float)\n",
    "\n",
    "# fill NaN values with the median\n",
    "aviation_data['Latitude'].fillna(aviation_data['Latitude'].median(), inplace=True)\n",
    "aviation_data['Longitude'].fillna(aviation_data['Longitude'].median(), inplace=True)\n",
    "\n",
    "# round the values to 2 decimal places\n",
    "aviation_data['Latitude'] = aviation_data['Latitude'].round(2)\n",
    "aviation_data['Longitude'] = aviation_data['Longitude'].round(2)\n",
    "\n",
    "\n",
    "#checking for any null values left\n",
    "aviation_data['Latitude'].isnull().sum()\n",
    "aviation_data['Longitude'].isnull().sum()\n",
    "\n"
   ]
  },
  {
   "cell_type": "code",
   "execution_count": 504,
   "metadata": {},
   "outputs": [
    {
     "data": {
      "text/plain": [
       "0"
      ]
     },
     "execution_count": 504,
     "metadata": {},
     "output_type": "execute_result"
    }
   ],
   "source": [
    "\n",
    "# Replacing the Report ststus column null values 'Nan' with placeholder 'UNKNOWN'\n",
    "# Assuming the missing values are reports that were not received or that are not known\n",
    "aviation_data['Report_Status'].fillna('UNKNOWN', inplace=True)\n",
    "\n",
    "# check whether missing values have been dropped\n",
    "aviation_data['Report_Status'].isna().sum()\n"
   ]
  },
  {
   "cell_type": "code",
   "execution_count": 505,
   "metadata": {},
   "outputs": [
    {
     "data": {
      "text/plain": [
       "0"
      ]
     },
     "execution_count": 505,
     "metadata": {},
     "output_type": "execute_result"
    }
   ],
   "source": [
    "#Using forward fill to deal with missing data on Amateur Built column\n",
    "#This is because there is a trend in the values so we can assume those missing bare the same \n",
    "aviation_data['Amateur_Built'].ffill(inplace=True)\n",
    "aviation_data['Amateur_Built'].bfill(inplace=True)\n",
    "\n",
    "#checking for any null values left\n",
    "aviation_data['Amateur_Built'].isnull().sum()"
   ]
  },
  {
   "cell_type": "code",
   "execution_count": 506,
   "metadata": {},
   "outputs": [
    {
     "data": {
      "text/plain": [
       "0"
      ]
     },
     "execution_count": 506,
     "metadata": {},
     "output_type": "execute_result"
    }
   ],
   "source": [
    "# Handling missing data in Aircraft Damage data, Country, Purpose of flight, broadphase of flight and Injury severity data\n",
    "# Replacing with 'UNKNOWN' placeholder because it is categorical data\n",
    "aviation_data['Aircraft_damage'].fillna('UNKNOWN', inplace=True)\n",
    "aviation_data['Injury_Severity'].fillna('UNKNOWN', inplace=True)\n",
    "aviation_data['Country'].fillna('UNKNOWN', inplace=True)\n",
    "aviation_data['Broad_phase_of_flight'].fillna('UNKNOWN', inplace=True)\n",
    "aviation_data['Weather_Condition'].fillna('UNKNOWN', inplace=True)\n",
    "aviation_data['Purpose_of_flight'].fillna('UNKNOWN', inplace=True)\n",
    "\n",
    "# check whether missing values have been dropped\n",
    "aviation_data['Aircraft_damage'].isna().sum()\n",
    "aviation_data['Injury_Severity'].isna().sum()\n",
    "aviation_data['Country'].isna().sum()\n",
    "aviation_data['Broad_phase_of_flight'].isna().sum()\n",
    "aviation_data['Weather_Condition'].isna().sum()\n",
    "aviation_data['Purpose_of_flight'].isna().sum()\n"
   ]
  },
  {
   "cell_type": "markdown",
   "metadata": {},
   "source": [
    "There are columns that we will require to drop as they are not relevant to our analysis and some have very many missing values that we cannot assume"
   ]
  },
  {
   "cell_type": "code",
   "execution_count": 507,
   "metadata": {},
   "outputs": [
    {
     "data": {
      "text/plain": [
       "Event_Id                  False\n",
       "Investigation_Type        False\n",
       "Accident_Number           False\n",
       "Event_Date                False\n",
       "Location                  False\n",
       "Country                   False\n",
       "Latitude                  False\n",
       "Longitude                 False\n",
       "Airport_Code               True\n",
       "Airport_Name               True\n",
       "Injury_Severity           False\n",
       "Aircraft_damage           False\n",
       "Aircraft_Category         False\n",
       "Registration_Number        True\n",
       "Make                      False\n",
       "Model                     False\n",
       "Amateur_Built             False\n",
       "Number_of_Engines         False\n",
       "Engine_Type               False\n",
       "Purpose_of_flight         False\n",
       "Air_carrier                True\n",
       "Total_Fatal_Injuries      False\n",
       "Total_Serious_Injuries    False\n",
       "Total_Minor_Injuries      False\n",
       "Total_Uninjured           False\n",
       "Weather_Condition         False\n",
       "Broad_phase_of_flight     False\n",
       "Report_Status             False\n",
       "Publication_Date           True\n",
       "dtype: bool"
      ]
     },
     "execution_count": 507,
     "metadata": {},
     "output_type": "execute_result"
    }
   ],
   "source": [
    "# check for the missing values left\n",
    "aviation_data.isnull().any()"
   ]
  },
  {
   "cell_type": "code",
   "execution_count": 508,
   "metadata": {},
   "outputs": [
    {
     "data": {
      "text/plain": [
       "Event_Id                  0\n",
       "Investigation_Type        0\n",
       "Accident_Number           0\n",
       "Event_Date                0\n",
       "Location                  0\n",
       "Country                   0\n",
       "Latitude                  0\n",
       "Longitude                 0\n",
       "Injury_Severity           0\n",
       "Aircraft_damage           0\n",
       "Aircraft_Category         0\n",
       "Make                      0\n",
       "Model                     0\n",
       "Amateur_Built             0\n",
       "Number_of_Engines         0\n",
       "Engine_Type               0\n",
       "Purpose_of_flight         0\n",
       "Total_Fatal_Injuries      0\n",
       "Total_Serious_Injuries    0\n",
       "Total_Minor_Injuries      0\n",
       "Total_Uninjured           0\n",
       "Weather_Condition         0\n",
       "Broad_phase_of_flight     0\n",
       "Report_Status             0\n",
       "dtype: int64"
      ]
     },
     "execution_count": 508,
     "metadata": {},
     "output_type": "execute_result"
    }
   ],
   "source": [
    "# Drop all columns with any missing values (NaN)\n",
    "aviation_data.dropna(axis=1, inplace=True)\n",
    "\n",
    "# Check the DataFrame to ensure columns with missing values have been dropped\n",
    "aviation_data.isnull().sum()\n"
   ]
  },
  {
   "cell_type": "code",
   "execution_count": 509,
   "metadata": {},
   "outputs": [
    {
     "data": {
      "text/plain": [
       "(87787, 24)"
      ]
     },
     "execution_count": 509,
     "metadata": {},
     "output_type": "execute_result"
    }
   ],
   "source": [
    "# checking the current shape of our dataframe\n",
    "aviation_data.shape"
   ]
  },
  {
   "cell_type": "code",
   "execution_count": 510,
   "metadata": {},
   "outputs": [
    {
     "data": {
      "text/html": [
       "<div>\n",
       "<style scoped>\n",
       "    .dataframe tbody tr th:only-of-type {\n",
       "        vertical-align: middle;\n",
       "    }\n",
       "\n",
       "    .dataframe tbody tr th {\n",
       "        vertical-align: top;\n",
       "    }\n",
       "\n",
       "    .dataframe thead th {\n",
       "        text-align: right;\n",
       "    }\n",
       "</style>\n",
       "<table border=\"1\" class=\"dataframe\">\n",
       "  <thead>\n",
       "    <tr style=\"text-align: right;\">\n",
       "      <th></th>\n",
       "      <th>Event_Id</th>\n",
       "      <th>Investigation_Type</th>\n",
       "      <th>Accident_Number</th>\n",
       "      <th>Event_Date</th>\n",
       "      <th>Location</th>\n",
       "      <th>Country</th>\n",
       "      <th>Latitude</th>\n",
       "      <th>Longitude</th>\n",
       "      <th>Injury_Severity</th>\n",
       "      <th>Aircraft_damage</th>\n",
       "      <th>...</th>\n",
       "      <th>Number_of_Engines</th>\n",
       "      <th>Engine_Type</th>\n",
       "      <th>Purpose_of_flight</th>\n",
       "      <th>Total_Fatal_Injuries</th>\n",
       "      <th>Total_Serious_Injuries</th>\n",
       "      <th>Total_Minor_Injuries</th>\n",
       "      <th>Total_Uninjured</th>\n",
       "      <th>Weather_Condition</th>\n",
       "      <th>Broad_phase_of_flight</th>\n",
       "      <th>Report_Status</th>\n",
       "    </tr>\n",
       "  </thead>\n",
       "  <tbody>\n",
       "    <tr>\n",
       "      <th>0</th>\n",
       "      <td>20001218X45444</td>\n",
       "      <td>Accident</td>\n",
       "      <td>SEA87LA080</td>\n",
       "      <td>24-10-1948</td>\n",
       "      <td>MOOSE CREEK, ID</td>\n",
       "      <td>United States</td>\n",
       "      <td>40952.00</td>\n",
       "      <td>107438.00</td>\n",
       "      <td>Fatal(2)</td>\n",
       "      <td>Destroyed</td>\n",
       "      <td>...</td>\n",
       "      <td>1.00</td>\n",
       "      <td>Reciprocating</td>\n",
       "      <td>Personal</td>\n",
       "      <td>2.0</td>\n",
       "      <td>0.0</td>\n",
       "      <td>0.0</td>\n",
       "      <td>0.0</td>\n",
       "      <td>UNK</td>\n",
       "      <td>Cruise</td>\n",
       "      <td>Probable Cause</td>\n",
       "    </tr>\n",
       "    <tr>\n",
       "      <th>1</th>\n",
       "      <td>20001218X45447</td>\n",
       "      <td>Accident</td>\n",
       "      <td>LAX94LA336</td>\n",
       "      <td>19-07-1962</td>\n",
       "      <td>BRIDGEPORT, CA</td>\n",
       "      <td>United States</td>\n",
       "      <td>40952.00</td>\n",
       "      <td>107438.00</td>\n",
       "      <td>Fatal(4)</td>\n",
       "      <td>Destroyed</td>\n",
       "      <td>...</td>\n",
       "      <td>1.00</td>\n",
       "      <td>Reciprocating</td>\n",
       "      <td>Personal</td>\n",
       "      <td>4.0</td>\n",
       "      <td>0.0</td>\n",
       "      <td>0.0</td>\n",
       "      <td>0.0</td>\n",
       "      <td>UNK</td>\n",
       "      <td>Unknown</td>\n",
       "      <td>Probable Cause</td>\n",
       "    </tr>\n",
       "    <tr>\n",
       "      <th>2</th>\n",
       "      <td>20061025X01555</td>\n",
       "      <td>Accident</td>\n",
       "      <td>NYC07LA005</td>\n",
       "      <td>30-08-1974</td>\n",
       "      <td>Saltville, VA</td>\n",
       "      <td>United States</td>\n",
       "      <td>36.92</td>\n",
       "      <td>-81.88</td>\n",
       "      <td>Fatal(3)</td>\n",
       "      <td>Destroyed</td>\n",
       "      <td>...</td>\n",
       "      <td>1.00</td>\n",
       "      <td>Reciprocating</td>\n",
       "      <td>Personal</td>\n",
       "      <td>3.0</td>\n",
       "      <td>0.0</td>\n",
       "      <td>0.0</td>\n",
       "      <td>0.0</td>\n",
       "      <td>IMC</td>\n",
       "      <td>Cruise</td>\n",
       "      <td>Probable Cause</td>\n",
       "    </tr>\n",
       "    <tr>\n",
       "      <th>3</th>\n",
       "      <td>20001218X45448</td>\n",
       "      <td>Accident</td>\n",
       "      <td>LAX96LA321</td>\n",
       "      <td>19-06-1977</td>\n",
       "      <td>EUREKA, CA</td>\n",
       "      <td>United States</td>\n",
       "      <td>40952.00</td>\n",
       "      <td>107438.00</td>\n",
       "      <td>Fatal(2)</td>\n",
       "      <td>Destroyed</td>\n",
       "      <td>...</td>\n",
       "      <td>1.00</td>\n",
       "      <td>Reciprocating</td>\n",
       "      <td>Personal</td>\n",
       "      <td>2.0</td>\n",
       "      <td>0.0</td>\n",
       "      <td>0.0</td>\n",
       "      <td>0.0</td>\n",
       "      <td>IMC</td>\n",
       "      <td>Cruise</td>\n",
       "      <td>Probable Cause</td>\n",
       "    </tr>\n",
       "    <tr>\n",
       "      <th>4</th>\n",
       "      <td>20041105X01764</td>\n",
       "      <td>Accident</td>\n",
       "      <td>CHI79FA064</td>\n",
       "      <td>02-08-1979</td>\n",
       "      <td>Canton, OH</td>\n",
       "      <td>United States</td>\n",
       "      <td>40952.00</td>\n",
       "      <td>107438.00</td>\n",
       "      <td>Fatal(1)</td>\n",
       "      <td>Destroyed</td>\n",
       "      <td>...</td>\n",
       "      <td>1.14</td>\n",
       "      <td>Reciprocating</td>\n",
       "      <td>Personal</td>\n",
       "      <td>1.0</td>\n",
       "      <td>2.0</td>\n",
       "      <td>0.0</td>\n",
       "      <td>0.0</td>\n",
       "      <td>VMC</td>\n",
       "      <td>Approach</td>\n",
       "      <td>Probable Cause</td>\n",
       "    </tr>\n",
       "  </tbody>\n",
       "</table>\n",
       "<p>5 rows × 24 columns</p>\n",
       "</div>"
      ],
      "text/plain": [
       "         Event_Id Investigation_Type Accident_Number  Event_Date  \\\n",
       "0  20001218X45444           Accident      SEA87LA080  24-10-1948   \n",
       "1  20001218X45447           Accident      LAX94LA336  19-07-1962   \n",
       "2  20061025X01555           Accident      NYC07LA005  30-08-1974   \n",
       "3  20001218X45448           Accident      LAX96LA321  19-06-1977   \n",
       "4  20041105X01764           Accident      CHI79FA064  02-08-1979   \n",
       "\n",
       "          Location        Country  Latitude  Longitude Injury_Severity  \\\n",
       "0  MOOSE CREEK, ID  United States  40952.00  107438.00        Fatal(2)   \n",
       "1   BRIDGEPORT, CA  United States  40952.00  107438.00        Fatal(4)   \n",
       "2    Saltville, VA  United States     36.92     -81.88        Fatal(3)   \n",
       "3       EUREKA, CA  United States  40952.00  107438.00        Fatal(2)   \n",
       "4       Canton, OH  United States  40952.00  107438.00        Fatal(1)   \n",
       "\n",
       "  Aircraft_damage  ... Number_of_Engines    Engine_Type Purpose_of_flight  \\\n",
       "0       Destroyed  ...              1.00  Reciprocating          Personal   \n",
       "1       Destroyed  ...              1.00  Reciprocating          Personal   \n",
       "2       Destroyed  ...              1.00  Reciprocating          Personal   \n",
       "3       Destroyed  ...              1.00  Reciprocating          Personal   \n",
       "4       Destroyed  ...              1.14  Reciprocating          Personal   \n",
       "\n",
       "  Total_Fatal_Injuries  Total_Serious_Injuries Total_Minor_Injuries  \\\n",
       "0                  2.0                     0.0                  0.0   \n",
       "1                  4.0                     0.0                  0.0   \n",
       "2                  3.0                     0.0                  0.0   \n",
       "3                  2.0                     0.0                  0.0   \n",
       "4                  1.0                     2.0                  0.0   \n",
       "\n",
       "  Total_Uninjured  Weather_Condition  Broad_phase_of_flight   Report_Status  \n",
       "0             0.0                UNK                 Cruise  Probable Cause  \n",
       "1             0.0                UNK                Unknown  Probable Cause  \n",
       "2             0.0                IMC                 Cruise  Probable Cause  \n",
       "3             0.0                IMC                 Cruise  Probable Cause  \n",
       "4             0.0                VMC               Approach  Probable Cause  \n",
       "\n",
       "[5 rows x 24 columns]"
      ]
     },
     "execution_count": 510,
     "metadata": {},
     "output_type": "execute_result"
    }
   ],
   "source": [
    "# To preview the data again\n",
    "aviation_data.head()"
   ]
  },
  {
   "cell_type": "markdown",
   "metadata": {},
   "source": [
    "### Dealing with Outliers"
   ]
  },
  {
   "cell_type": "code",
   "execution_count": 512,
   "metadata": {},
   "outputs": [
    {
     "name": "stdout",
     "output_type": "stream",
     "text": [
      "Outliers detected in column: Latitude\n",
      "             Event_Id   Latitude\n",
      "2      20061025X01555      36.92\n",
      "5      20170710X52551      42.45\n",
      "593    20080417X00504      30.76\n",
      "3654   20051208X01953      46.04\n",
      "6202   20020904X01525      48.12\n",
      "...               ...        ...\n",
      "88869  20221213106455   47257.00\n",
      "88873  20221215106463  182724.00\n",
      "88876  20221219106475  373829.00\n",
      "88877  20221219106470  282825.00\n",
      "88886  20221227106497  341525.00\n",
      "\n",
      "[34168 rows x 2 columns]\n",
      "\n",
      "Outliers detected in column: Longitude\n",
      "             Event_Id   Longitude\n",
      "2      20061025X01555      -81.88\n",
      "5      20170710X52551      -70.76\n",
      "593    20080417X00504      -88.36\n",
      "3654   20051208X01953     -120.85\n",
      "6202   20020904X01525     -113.89\n",
      "...               ...         ...\n",
      "88869  20221213106455   109280.00\n",
      "88873  20221215106463    66554.00\n",
      "88876  20221219106475   972635.00\n",
      "88877  20221219106470   822719.00\n",
      "88886  20221227106497  1112021.00\n",
      "\n",
      "[34161 rows x 2 columns]\n",
      "\n"
     ]
    }
   ],
   "source": [
    "# Checking for outliers in Numerical data columns usin IQR\n",
    "# Calculate IQR and detect outliers for Latitude and Longitude columns\n",
    "columns_to_check = ['Latitude', 'Longitude']\n",
    "\n",
    "for column in columns_to_check:\n",
    "    #Calculate Q1 (25th percentile) and Q3 (75th percentile) for the column\n",
    "    Q1 = aviation_data[column].quantile(0.25)\n",
    "    Q3 = aviation_data[column].quantile(0.75)\n",
    "    IQR = Q3 - Q1\n",
    "    \n",
    "    #Define the lower and upper bounds for outliers\n",
    "    lower_bound = Q1 - 1.5 * IQR\n",
    "    upper_bound = Q3 + 1.5 * IQR\n",
    "    \n",
    "    #Identify the outliers for the current column\n",
    "    outliers = aviation_data[(aviation_data[column] < lower_bound) | (aviation_data[column] > upper_bound)]\n",
    "    \n",
    "    # Print the outliers for the current column\n",
    "    if not outliers.empty:\n",
    "        print(f\"Outliers detected in column: {column}\")\n",
    "        print(outliers[['Event_Id', column]])  # Print out Event_Id and the outlier column values\n",
    "        print()\n",
    "    else:\n",
    "        print(f\"No outliers detected in column: {column}\\n\")\n",
    "\n",
    " "
   ]
  },
  {
   "cell_type": "code",
   "execution_count": 513,
   "metadata": {},
   "outputs": [
    {
     "name": "stdout",
     "output_type": "stream",
     "text": [
      "             Event_Id Investigation_Type Accident_Number  Event_Date  \\\n",
      "0      20001218X45444           Accident      SEA87LA080  24-10-1948   \n",
      "1      20001218X45447           Accident      LAX94LA336  19-07-1962   \n",
      "3      20001218X45448           Accident      LAX96LA321  19-06-1977   \n",
      "4      20041105X01764           Accident      CHI79FA064  02-08-1979   \n",
      "6      20001218X45446           Accident      CHI81LA106  01-08-1981   \n",
      "...               ...                ...             ...         ...   \n",
      "88883  20221228106502           Accident      GAA23WA046  22-12-2022   \n",
      "88884  20221227106491           Accident      ERA23LA093  26-12-2022   \n",
      "88885  20221227106494           Accident      ERA23LA095  26-12-2022   \n",
      "88887  20221227106498           Accident      WPR23LA076  26-12-2022   \n",
      "88888  20221230106513           Accident      ERA23LA097  29-12-2022   \n",
      "\n",
      "              Location        Country  Latitude  Longitude Injury_Severity  \\\n",
      "0      MOOSE CREEK, ID  United States   40952.0   107438.0        Fatal(2)   \n",
      "1       BRIDGEPORT, CA  United States   40952.0   107438.0        Fatal(4)   \n",
      "3           EUREKA, CA  United States   40952.0   107438.0        Fatal(2)   \n",
      "4           Canton, OH  United States   40952.0   107438.0        Fatal(1)   \n",
      "6           COTTON, MN  United States   40952.0   107438.0        Fatal(4)   \n",
      "...                ...            ...       ...        ...             ...   \n",
      "88883      Brasnorte,          Brazil   40952.0   107438.0           Fatal   \n",
      "88884    Annapolis, MD  United States   40952.0   107438.0           Minor   \n",
      "88885      Hampton, NH  United States   40952.0   107438.0         UNKNOWN   \n",
      "88887       Morgan, UT  United States   40952.0   107438.0         UNKNOWN   \n",
      "88888       Athens, GA  United States   40952.0   107438.0           Minor   \n",
      "\n",
      "      Aircraft_damage  ... Number_of_Engines    Engine_Type Purpose_of_flight  \\\n",
      "0           Destroyed  ...              1.00  Reciprocating          Personal   \n",
      "1           Destroyed  ...              1.00  Reciprocating          Personal   \n",
      "3           Destroyed  ...              1.00  Reciprocating          Personal   \n",
      "4           Destroyed  ...              1.14  Reciprocating          Personal   \n",
      "6           Destroyed  ...              1.00  Reciprocating          Personal   \n",
      "...               ...  ...               ...            ...               ...   \n",
      "88883         UNKNOWN  ...              1.14  Reciprocating           UNKNOWN   \n",
      "88884         UNKNOWN  ...              1.14  Reciprocating          Personal   \n",
      "88885         UNKNOWN  ...              1.14  Reciprocating           UNKNOWN   \n",
      "88887         UNKNOWN  ...              1.14  Reciprocating          Personal   \n",
      "88888         UNKNOWN  ...              1.14  Reciprocating          Personal   \n",
      "\n",
      "      Total_Fatal_Injuries  Total_Serious_Injuries Total_Minor_Injuries  \\\n",
      "0                      2.0                     0.0                  0.0   \n",
      "1                      4.0                     0.0                  0.0   \n",
      "3                      2.0                     0.0                  0.0   \n",
      "4                      1.0                     2.0                  0.0   \n",
      "6                      4.0                     0.0                  0.0   \n",
      "...                    ...                     ...                  ...   \n",
      "88883                  1.0                     0.0                  0.0   \n",
      "88884                  0.0                     1.0                  0.0   \n",
      "88885                  0.0                     0.0                  0.0   \n",
      "88887                  0.0                     0.0                  0.0   \n",
      "88888                  0.0                     1.0                  0.0   \n",
      "\n",
      "      Total_Uninjured  Weather_Condition  Broad_phase_of_flight  \\\n",
      "0                 0.0                UNK                 Cruise   \n",
      "1                 0.0                UNK                Unknown   \n",
      "3                 0.0                IMC                 Cruise   \n",
      "4                 0.0                VMC               Approach   \n",
      "6                 0.0                IMC                Unknown   \n",
      "...               ...                ...                    ...   \n",
      "88883             0.0            UNKNOWN                UNKNOWN   \n",
      "88884             0.0            UNKNOWN                UNKNOWN   \n",
      "88885             0.0            UNKNOWN                UNKNOWN   \n",
      "88887             0.0            UNKNOWN                UNKNOWN   \n",
      "88888             1.0            UNKNOWN                UNKNOWN   \n",
      "\n",
      "        Report_Status  \n",
      "0      Probable Cause  \n",
      "1      Probable Cause  \n",
      "3      Probable Cause  \n",
      "4      Probable Cause  \n",
      "6      Probable Cause  \n",
      "...               ...  \n",
      "88883         UNKNOWN  \n",
      "88884         UNKNOWN  \n",
      "88885         UNKNOWN  \n",
      "88887         UNKNOWN  \n",
      "88888         UNKNOWN  \n",
      "\n",
      "[53609 rows x 24 columns]\n"
     ]
    }
   ],
   "source": [
    "# Columns to remove outliers\n",
    "columns_to_check = ['Latitude','Longitude']\n",
    "\n",
    "# IQR for each column and remove outliers\n",
    "for col in columns_to_check:\n",
    "    Q1 = aviation_data[col].quantile(0.25)\n",
    "    Q3 = aviation_data[col].quantile(0.75)\n",
    "    IQR = Q3 - Q1\n",
    "    lower_bound = Q1 - 1.5 * IQR\n",
    "    upper_bound = Q3 + 1.5 * IQR\n",
    "    \n",
    "    # filter for each column\n",
    "    aviation_data = aviation_data[(aviation_data[col] >= lower_bound) & (aviation_data[col] <= upper_bound)]\n",
    "\n",
    "#filtered data\n",
    "print(aviation_data)\n"
   ]
  },
  {
   "cell_type": "code",
   "execution_count": null,
   "metadata": {},
   "outputs": [
    {
     "name": "stdout",
     "output_type": "stream",
     "text": [
      "['stinson' 'piper' 'rockwell' ... 'mooney aircraft corp.' 'royse ralph l'\n",
      " 'grumman american avn. corp.']\n"
     ]
    }
   ],
   "source": [
    "# Loop through the column series and convert each value to lowercase\n",
    "for index, value in aviation_data['Make'].items():\n",
    "    aviation_data.at[index, 'Make'] = value.lower()\n",
    "\n",
    "#  unique values\n",
    "print(aviation_data['Make'].unique())\n",
    "\n"
   ]
  },
  {
   "cell_type": "markdown",
   "metadata": {},
   "source": [
    "## Data Analysis"
   ]
  },
  {
   "cell_type": "markdown",
   "metadata": {
    "id": "L6RJixKgVZ4d"
   },
   "source": [
    "### Summary statistics\n"
   ]
  },
  {
   "cell_type": "code",
   "execution_count": 514,
   "metadata": {},
   "outputs": [
    {
     "data": {
      "text/html": [
       "<div>\n",
       "<style scoped>\n",
       "    .dataframe tbody tr th:only-of-type {\n",
       "        vertical-align: middle;\n",
       "    }\n",
       "\n",
       "    .dataframe tbody tr th {\n",
       "        vertical-align: top;\n",
       "    }\n",
       "\n",
       "    .dataframe thead th {\n",
       "        text-align: right;\n",
       "    }\n",
       "</style>\n",
       "<table border=\"1\" class=\"dataframe\">\n",
       "  <thead>\n",
       "    <tr style=\"text-align: right;\">\n",
       "      <th></th>\n",
       "      <th>Latitude</th>\n",
       "      <th>Longitude</th>\n",
       "      <th>Number_of_Engines</th>\n",
       "      <th>Total_Fatal_Injuries</th>\n",
       "      <th>Total_Serious_Injuries</th>\n",
       "      <th>Total_Minor_Injuries</th>\n",
       "      <th>Total_Uninjured</th>\n",
       "    </tr>\n",
       "  </thead>\n",
       "  <tbody>\n",
       "    <tr>\n",
       "      <th>count</th>\n",
       "      <td>53609.0</td>\n",
       "      <td>53609.0</td>\n",
       "      <td>53609.000000</td>\n",
       "      <td>53609.000000</td>\n",
       "      <td>53609.000000</td>\n",
       "      <td>53609.000000</td>\n",
       "      <td>53609.00000</td>\n",
       "    </tr>\n",
       "    <tr>\n",
       "      <th>mean</th>\n",
       "      <td>40952.0</td>\n",
       "      <td>107438.0</td>\n",
       "      <td>1.158177</td>\n",
       "      <td>0.626089</td>\n",
       "      <td>0.225522</td>\n",
       "      <td>0.358988</td>\n",
       "      <td>5.15572</td>\n",
       "    </tr>\n",
       "    <tr>\n",
       "      <th>std</th>\n",
       "      <td>0.0</td>\n",
       "      <td>0.0</td>\n",
       "      <td>0.449036</td>\n",
       "      <td>5.990915</td>\n",
       "      <td>1.410393</td>\n",
       "      <td>2.570046</td>\n",
       "      <td>27.16981</td>\n",
       "    </tr>\n",
       "    <tr>\n",
       "      <th>min</th>\n",
       "      <td>40952.0</td>\n",
       "      <td>107438.0</td>\n",
       "      <td>0.000000</td>\n",
       "      <td>0.000000</td>\n",
       "      <td>0.000000</td>\n",
       "      <td>0.000000</td>\n",
       "      <td>0.00000</td>\n",
       "    </tr>\n",
       "    <tr>\n",
       "      <th>25%</th>\n",
       "      <td>40952.0</td>\n",
       "      <td>107438.0</td>\n",
       "      <td>1.000000</td>\n",
       "      <td>0.000000</td>\n",
       "      <td>0.000000</td>\n",
       "      <td>0.000000</td>\n",
       "      <td>0.00000</td>\n",
       "    </tr>\n",
       "    <tr>\n",
       "      <th>50%</th>\n",
       "      <td>40952.0</td>\n",
       "      <td>107438.0</td>\n",
       "      <td>1.000000</td>\n",
       "      <td>0.000000</td>\n",
       "      <td>0.000000</td>\n",
       "      <td>0.000000</td>\n",
       "      <td>1.00000</td>\n",
       "    </tr>\n",
       "    <tr>\n",
       "      <th>75%</th>\n",
       "      <td>40952.0</td>\n",
       "      <td>107438.0</td>\n",
       "      <td>1.000000</td>\n",
       "      <td>0.000000</td>\n",
       "      <td>0.000000</td>\n",
       "      <td>0.000000</td>\n",
       "      <td>2.00000</td>\n",
       "    </tr>\n",
       "    <tr>\n",
       "      <th>max</th>\n",
       "      <td>40952.0</td>\n",
       "      <td>107438.0</td>\n",
       "      <td>4.000000</td>\n",
       "      <td>349.000000</td>\n",
       "      <td>161.000000</td>\n",
       "      <td>380.000000</td>\n",
       "      <td>588.00000</td>\n",
       "    </tr>\n",
       "  </tbody>\n",
       "</table>\n",
       "</div>"
      ],
      "text/plain": [
       "       Latitude  Longitude  Number_of_Engines  Total_Fatal_Injuries  \\\n",
       "count   53609.0    53609.0       53609.000000          53609.000000   \n",
       "mean    40952.0   107438.0           1.158177              0.626089   \n",
       "std         0.0        0.0           0.449036              5.990915   \n",
       "min     40952.0   107438.0           0.000000              0.000000   \n",
       "25%     40952.0   107438.0           1.000000              0.000000   \n",
       "50%     40952.0   107438.0           1.000000              0.000000   \n",
       "75%     40952.0   107438.0           1.000000              0.000000   \n",
       "max     40952.0   107438.0           4.000000            349.000000   \n",
       "\n",
       "       Total_Serious_Injuries  Total_Minor_Injuries  Total_Uninjured  \n",
       "count            53609.000000          53609.000000      53609.00000  \n",
       "mean                 0.225522              0.358988          5.15572  \n",
       "std                  1.410393              2.570046         27.16981  \n",
       "min                  0.000000              0.000000          0.00000  \n",
       "25%                  0.000000              0.000000          0.00000  \n",
       "50%                  0.000000              0.000000          1.00000  \n",
       "75%                  0.000000              0.000000          2.00000  \n",
       "max                161.000000            380.000000        588.00000  "
      ]
     },
     "execution_count": 514,
     "metadata": {},
     "output_type": "execute_result"
    }
   ],
   "source": [
    "aviation_data.describe()"
   ]
  },
  {
   "cell_type": "markdown",
   "metadata": {
    "id": "KrRd-tFCVkdG"
   },
   "source": [
    "Obtaining summary staatistics of the dataset is also quite important. We intend to split the dataset into subgroups to see if we can notice any trends. We'll use the `groupby()` method to aggregate the data. This aggregate function will help us compare subsets of our data.\n",
    "\n",
    "\n",
    "\n",
    "\n",
    "\n",
    "\n",
    "\n",
    "\n"
   ]
  },
  {
   "cell_type": "code",
   "execution_count": 515,
   "metadata": {},
   "outputs": [
    {
     "data": {
      "text/html": [
       "<div>\n",
       "<style scoped>\n",
       "    .dataframe tbody tr th:only-of-type {\n",
       "        vertical-align: middle;\n",
       "    }\n",
       "\n",
       "    .dataframe tbody tr th {\n",
       "        vertical-align: top;\n",
       "    }\n",
       "\n",
       "    .dataframe thead th {\n",
       "        text-align: right;\n",
       "    }\n",
       "</style>\n",
       "<table border=\"1\" class=\"dataframe\">\n",
       "  <thead>\n",
       "    <tr style=\"text-align: right;\">\n",
       "      <th></th>\n",
       "      <th>Total_Fatal_Injuries</th>\n",
       "      <th>Total_Serious_Injuries</th>\n",
       "      <th>Total_Minor_Injuries</th>\n",
       "    </tr>\n",
       "    <tr>\n",
       "      <th>Aircraft_Category</th>\n",
       "      <th></th>\n",
       "      <th></th>\n",
       "      <th></th>\n",
       "    </tr>\n",
       "  </thead>\n",
       "  <tbody>\n",
       "    <tr>\n",
       "      <th>Airplane</th>\n",
       "      <td>29762.0</td>\n",
       "      <td>10426.0</td>\n",
       "      <td>16807.0</td>\n",
       "    </tr>\n",
       "    <tr>\n",
       "      <th>Balloon</th>\n",
       "      <td>212.0</td>\n",
       "      <td>27.0</td>\n",
       "      <td>13.0</td>\n",
       "    </tr>\n",
       "    <tr>\n",
       "      <th>Blimp</th>\n",
       "      <td>0.0</td>\n",
       "      <td>0.0</td>\n",
       "      <td>0.0</td>\n",
       "    </tr>\n",
       "    <tr>\n",
       "      <th>Glider</th>\n",
       "      <td>206.0</td>\n",
       "      <td>136.0</td>\n",
       "      <td>136.0</td>\n",
       "    </tr>\n",
       "    <tr>\n",
       "      <th>Gyrocraft</th>\n",
       "      <td>4.0</td>\n",
       "      <td>4.0</td>\n",
       "      <td>4.0</td>\n",
       "    </tr>\n",
       "    <tr>\n",
       "      <th>Helicopter</th>\n",
       "      <td>3369.0</td>\n",
       "      <td>1496.0</td>\n",
       "      <td>2285.0</td>\n",
       "    </tr>\n",
       "    <tr>\n",
       "      <th>Powered-Lift</th>\n",
       "      <td>0.0</td>\n",
       "      <td>0.0</td>\n",
       "      <td>0.0</td>\n",
       "    </tr>\n",
       "    <tr>\n",
       "      <th>UNK</th>\n",
       "      <td>0.0</td>\n",
       "      <td>0.0</td>\n",
       "      <td>0.0</td>\n",
       "    </tr>\n",
       "    <tr>\n",
       "      <th>Ultralight</th>\n",
       "      <td>5.0</td>\n",
       "      <td>0.0</td>\n",
       "      <td>0.0</td>\n",
       "    </tr>\n",
       "    <tr>\n",
       "      <th>Unknown</th>\n",
       "      <td>6.0</td>\n",
       "      <td>0.0</td>\n",
       "      <td>0.0</td>\n",
       "    </tr>\n",
       "    <tr>\n",
       "      <th>WSFT</th>\n",
       "      <td>0.0</td>\n",
       "      <td>1.0</td>\n",
       "      <td>0.0</td>\n",
       "    </tr>\n",
       "  </tbody>\n",
       "</table>\n",
       "</div>"
      ],
      "text/plain": [
       "                   Total_Fatal_Injuries  Total_Serious_Injuries  \\\n",
       "Aircraft_Category                                                 \n",
       "Airplane                        29762.0                 10426.0   \n",
       "Balloon                           212.0                    27.0   \n",
       "Blimp                               0.0                     0.0   \n",
       "Glider                            206.0                   136.0   \n",
       "Gyrocraft                           4.0                     4.0   \n",
       "Helicopter                       3369.0                  1496.0   \n",
       "Powered-Lift                        0.0                     0.0   \n",
       "UNK                                 0.0                     0.0   \n",
       "Ultralight                          5.0                     0.0   \n",
       "Unknown                             6.0                     0.0   \n",
       "WSFT                                0.0                     1.0   \n",
       "\n",
       "                   Total_Minor_Injuries  \n",
       "Aircraft_Category                        \n",
       "Airplane                        16807.0  \n",
       "Balloon                            13.0  \n",
       "Blimp                               0.0  \n",
       "Glider                            136.0  \n",
       "Gyrocraft                           4.0  \n",
       "Helicopter                       2285.0  \n",
       "Powered-Lift                        0.0  \n",
       "UNK                                 0.0  \n",
       "Ultralight                          0.0  \n",
       "Unknown                             0.0  \n",
       "WSFT                                0.0  "
      ]
     },
     "execution_count": 515,
     "metadata": {},
     "output_type": "execute_result"
    }
   ],
   "source": [
    "# Group by 'Aircraft_Category' and calculate sum, and count for some numerical columns\n",
    "agg_data = aviation_data.groupby('Aircraft_Category').agg({\n",
    "    'Total_Fatal_Injuries': 'sum',\n",
    "    'Total_Serious_Injuries': 'sum',\n",
    "    'Total_Minor_Injuries': 'sum',\n",
    "})\n",
    "\n",
    "agg_data\n"
   ]
  },
  {
   "cell_type": "code",
   "execution_count": 516,
   "metadata": {},
   "outputs": [
    {
     "data": {
      "text/html": [
       "<div>\n",
       "<style scoped>\n",
       "    .dataframe tbody tr th:only-of-type {\n",
       "        vertical-align: middle;\n",
       "    }\n",
       "\n",
       "    .dataframe tbody tr th {\n",
       "        vertical-align: top;\n",
       "    }\n",
       "\n",
       "    .dataframe thead th {\n",
       "        text-align: right;\n",
       "    }\n",
       "</style>\n",
       "<table border=\"1\" class=\"dataframe\">\n",
       "  <thead>\n",
       "    <tr style=\"text-align: right;\">\n",
       "      <th></th>\n",
       "      <th>Total_Fatal_Injuries</th>\n",
       "      <th>Total_Serious_Injuries</th>\n",
       "      <th>Latitude</th>\n",
       "      <th>Longitude</th>\n",
       "    </tr>\n",
       "    <tr>\n",
       "      <th>Aircraft_damage</th>\n",
       "      <th></th>\n",
       "      <th></th>\n",
       "      <th></th>\n",
       "      <th></th>\n",
       "    </tr>\n",
       "  </thead>\n",
       "  <tbody>\n",
       "    <tr>\n",
       "      <th>Destroyed</th>\n",
       "      <td>30114.0</td>\n",
       "      <td>5707.0</td>\n",
       "      <td>40952.0</td>\n",
       "      <td>107438.0</td>\n",
       "    </tr>\n",
       "    <tr>\n",
       "      <th>Minor</th>\n",
       "      <td>245.0</td>\n",
       "      <td>330.0</td>\n",
       "      <td>40952.0</td>\n",
       "      <td>107438.0</td>\n",
       "    </tr>\n",
       "    <tr>\n",
       "      <th>Substantial</th>\n",
       "      <td>2409.0</td>\n",
       "      <td>5212.0</td>\n",
       "      <td>40952.0</td>\n",
       "      <td>107438.0</td>\n",
       "    </tr>\n",
       "    <tr>\n",
       "      <th>UNKNOWN</th>\n",
       "      <td>758.0</td>\n",
       "      <td>841.0</td>\n",
       "      <td>40952.0</td>\n",
       "      <td>107438.0</td>\n",
       "    </tr>\n",
       "    <tr>\n",
       "      <th>Unknown</th>\n",
       "      <td>38.0</td>\n",
       "      <td>0.0</td>\n",
       "      <td>40952.0</td>\n",
       "      <td>107438.0</td>\n",
       "    </tr>\n",
       "  </tbody>\n",
       "</table>\n",
       "</div>"
      ],
      "text/plain": [
       "                 Total_Fatal_Injuries  Total_Serious_Injuries  Latitude  \\\n",
       "Aircraft_damage                                                           \n",
       "Destroyed                     30114.0                  5707.0   40952.0   \n",
       "Minor                           245.0                   330.0   40952.0   \n",
       "Substantial                    2409.0                  5212.0   40952.0   \n",
       "UNKNOWN                         758.0                   841.0   40952.0   \n",
       "Unknown                          38.0                     0.0   40952.0   \n",
       "\n",
       "                 Longitude  \n",
       "Aircraft_damage             \n",
       "Destroyed         107438.0  \n",
       "Minor             107438.0  \n",
       "Substantial       107438.0  \n",
       "UNKNOWN           107438.0  \n",
       "Unknown           107438.0  "
      ]
     },
     "execution_count": 516,
     "metadata": {},
     "output_type": "execute_result"
    }
   ],
   "source": [
    "# Group by 'Purpose_of_flight' and apply multiple functions on different columns\n",
    "agg_data = aviation_data.groupby('Aircraft_damage').agg({\n",
    "    'Total_Fatal_Injuries': 'sum',\n",
    "    'Total_Serious_Injuries': 'sum',\n",
    "    'Latitude': 'mean',\n",
    "    'Longitude': 'mean'\n",
    "})\n",
    "\n",
    "agg_data\n"
   ]
  },
  {
   "cell_type": "code",
   "execution_count": 517,
   "metadata": {},
   "outputs": [
    {
     "data": {
      "text/html": [
       "<div>\n",
       "<style scoped>\n",
       "    .dataframe tbody tr th:only-of-type {\n",
       "        vertical-align: middle;\n",
       "    }\n",
       "\n",
       "    .dataframe tbody tr th {\n",
       "        vertical-align: top;\n",
       "    }\n",
       "\n",
       "    .dataframe thead th {\n",
       "        text-align: right;\n",
       "    }\n",
       "</style>\n",
       "<table border=\"1\" class=\"dataframe\">\n",
       "  <thead>\n",
       "    <tr style=\"text-align: right;\">\n",
       "      <th></th>\n",
       "      <th></th>\n",
       "      <th>Total_Fatal_Injuries</th>\n",
       "      <th>Total_Serious_Injuries</th>\n",
       "      <th>Total_Uninjured</th>\n",
       "    </tr>\n",
       "    <tr>\n",
       "      <th>Engine_Type</th>\n",
       "      <th>Number_of_Engines</th>\n",
       "      <th></th>\n",
       "      <th></th>\n",
       "      <th></th>\n",
       "    </tr>\n",
       "  </thead>\n",
       "  <tbody>\n",
       "    <tr>\n",
       "      <th rowspan=\"3\" valign=\"top\">Reciprocating</th>\n",
       "      <th>1.00</th>\n",
       "      <td>12240.0</td>\n",
       "      <td>6923.0</td>\n",
       "      <td>40816.0</td>\n",
       "    </tr>\n",
       "    <tr>\n",
       "      <th>1.14</th>\n",
       "      <td>5350.0</td>\n",
       "      <td>871.0</td>\n",
       "      <td>42664.0</td>\n",
       "    </tr>\n",
       "    <tr>\n",
       "      <th>2.00</th>\n",
       "      <td>3523.0</td>\n",
       "      <td>856.0</td>\n",
       "      <td>13372.0</td>\n",
       "    </tr>\n",
       "    <tr>\n",
       "      <th>Unknown</th>\n",
       "      <th>1.14</th>\n",
       "      <td>3248.0</td>\n",
       "      <td>841.0</td>\n",
       "      <td>8212.0</td>\n",
       "    </tr>\n",
       "    <tr>\n",
       "      <th>Turbo Shaft</th>\n",
       "      <th>1.00</th>\n",
       "      <td>695.0</td>\n",
       "      <td>578.0</td>\n",
       "      <td>2119.0</td>\n",
       "    </tr>\n",
       "    <tr>\n",
       "      <th>Turbo Fan</th>\n",
       "      <th>2.00</th>\n",
       "      <td>1877.0</td>\n",
       "      <td>447.0</td>\n",
       "      <td>58844.0</td>\n",
       "    </tr>\n",
       "    <tr>\n",
       "      <th>Turbo Prop</th>\n",
       "      <th>2.00</th>\n",
       "      <td>1095.0</td>\n",
       "      <td>300.0</td>\n",
       "      <td>9897.0</td>\n",
       "    </tr>\n",
       "    <tr>\n",
       "      <th>Turbo Fan</th>\n",
       "      <th>3.00</th>\n",
       "      <td>670.0</td>\n",
       "      <td>276.0</td>\n",
       "      <td>35277.0</td>\n",
       "    </tr>\n",
       "    <tr>\n",
       "      <th>Unknown</th>\n",
       "      <th>0.00</th>\n",
       "      <td>319.0</td>\n",
       "      <td>249.0</td>\n",
       "      <td>2214.0</td>\n",
       "    </tr>\n",
       "    <tr>\n",
       "      <th rowspan=\"2\" valign=\"top\">Turbo Fan</th>\n",
       "      <th>4.00</th>\n",
       "      <td>1206.0</td>\n",
       "      <td>155.0</td>\n",
       "      <td>24128.0</td>\n",
       "    </tr>\n",
       "    <tr>\n",
       "      <th>1.14</th>\n",
       "      <td>690.0</td>\n",
       "      <td>126.0</td>\n",
       "      <td>4828.0</td>\n",
       "    </tr>\n",
       "    <tr>\n",
       "      <th>Turbo Shaft</th>\n",
       "      <th>2.00</th>\n",
       "      <td>224.0</td>\n",
       "      <td>106.0</td>\n",
       "      <td>1025.0</td>\n",
       "    </tr>\n",
       "    <tr>\n",
       "      <th>Turbo Jet</th>\n",
       "      <th>2.00</th>\n",
       "      <td>330.0</td>\n",
       "      <td>94.0</td>\n",
       "      <td>11885.0</td>\n",
       "    </tr>\n",
       "    <tr>\n",
       "      <th>Turbo Shaft</th>\n",
       "      <th>1.14</th>\n",
       "      <td>606.0</td>\n",
       "      <td>81.0</td>\n",
       "      <td>2451.0</td>\n",
       "    </tr>\n",
       "    <tr>\n",
       "      <th rowspan=\"2\" valign=\"top\">Turbo Prop</th>\n",
       "      <th>1.00</th>\n",
       "      <td>191.0</td>\n",
       "      <td>56.0</td>\n",
       "      <td>416.0</td>\n",
       "    </tr>\n",
       "    <tr>\n",
       "      <th>1.14</th>\n",
       "      <td>332.0</td>\n",
       "      <td>36.0</td>\n",
       "      <td>2889.0</td>\n",
       "    </tr>\n",
       "    <tr>\n",
       "      <th>Turbo Jet</th>\n",
       "      <th>3.00</th>\n",
       "      <td>8.0</td>\n",
       "      <td>15.0</td>\n",
       "      <td>8871.0</td>\n",
       "    </tr>\n",
       "    <tr>\n",
       "      <th>Unknown</th>\n",
       "      <th>1.00</th>\n",
       "      <td>14.0</td>\n",
       "      <td>13.0</td>\n",
       "      <td>586.0</td>\n",
       "    </tr>\n",
       "    <tr>\n",
       "      <th>Turbo Jet</th>\n",
       "      <th>1.14</th>\n",
       "      <td>148.0</td>\n",
       "      <td>11.0</td>\n",
       "      <td>569.0</td>\n",
       "    </tr>\n",
       "    <tr>\n",
       "      <th rowspan=\"2\" valign=\"top\">Reciprocating</th>\n",
       "      <th>0.00</th>\n",
       "      <td>2.0</td>\n",
       "      <td>11.0</td>\n",
       "      <td>37.0</td>\n",
       "    </tr>\n",
       "    <tr>\n",
       "      <th>4.00</th>\n",
       "      <td>51.0</td>\n",
       "      <td>10.0</td>\n",
       "      <td>465.0</td>\n",
       "    </tr>\n",
       "    <tr>\n",
       "      <th rowspan=\"2\" valign=\"top\">Turbo Jet</th>\n",
       "      <th>4.00</th>\n",
       "      <td>260.0</td>\n",
       "      <td>9.0</td>\n",
       "      <td>3146.0</td>\n",
       "    </tr>\n",
       "    <tr>\n",
       "      <th>1.00</th>\n",
       "      <td>24.0</td>\n",
       "      <td>7.0</td>\n",
       "      <td>15.0</td>\n",
       "    </tr>\n",
       "    <tr>\n",
       "      <th>Turbo Prop</th>\n",
       "      <th>4.00</th>\n",
       "      <td>102.0</td>\n",
       "      <td>6.0</td>\n",
       "      <td>248.0</td>\n",
       "    </tr>\n",
       "    <tr>\n",
       "      <th>Unknown</th>\n",
       "      <th>2.00</th>\n",
       "      <td>1.0</td>\n",
       "      <td>4.0</td>\n",
       "      <td>577.0</td>\n",
       "    </tr>\n",
       "    <tr>\n",
       "      <th>Electric</th>\n",
       "      <th>1.14</th>\n",
       "      <td>1.0</td>\n",
       "      <td>3.0</td>\n",
       "      <td>2.0</td>\n",
       "    </tr>\n",
       "    <tr>\n",
       "      <th>Turbo Prop</th>\n",
       "      <th>0.00</th>\n",
       "      <td>0.0</td>\n",
       "      <td>2.0</td>\n",
       "      <td>4.0</td>\n",
       "    </tr>\n",
       "    <tr>\n",
       "      <th>Turbo Fan</th>\n",
       "      <th>0.00</th>\n",
       "      <td>0.0</td>\n",
       "      <td>2.0</td>\n",
       "      <td>1.0</td>\n",
       "    </tr>\n",
       "    <tr>\n",
       "      <th>Turbo Shaft</th>\n",
       "      <th>0.00</th>\n",
       "      <td>0.0</td>\n",
       "      <td>1.0</td>\n",
       "      <td>1.0</td>\n",
       "    </tr>\n",
       "    <tr>\n",
       "      <th>Turbo Fan</th>\n",
       "      <th>1.00</th>\n",
       "      <td>12.0</td>\n",
       "      <td>1.0</td>\n",
       "      <td>160.0</td>\n",
       "    </tr>\n",
       "    <tr>\n",
       "      <th>Geared Turbofan</th>\n",
       "      <th>1.14</th>\n",
       "      <td>176.0</td>\n",
       "      <td>0.0</td>\n",
       "      <td>0.0</td>\n",
       "    </tr>\n",
       "    <tr>\n",
       "      <th>Reciprocating</th>\n",
       "      <th>3.00</th>\n",
       "      <td>169.0</td>\n",
       "      <td>0.0</td>\n",
       "      <td>301.0</td>\n",
       "    </tr>\n",
       "    <tr>\n",
       "      <th>Geared Turbofan</th>\n",
       "      <th>2.00</th>\n",
       "      <td>0.0</td>\n",
       "      <td>0.0</td>\n",
       "      <td>0.0</td>\n",
       "    </tr>\n",
       "    <tr>\n",
       "      <th rowspan=\"2\" valign=\"top\">Unknown</th>\n",
       "      <th>3.00</th>\n",
       "      <td>0.0</td>\n",
       "      <td>0.0</td>\n",
       "      <td>2.0</td>\n",
       "    </tr>\n",
       "    <tr>\n",
       "      <th>4.00</th>\n",
       "      <td>0.0</td>\n",
       "      <td>0.0</td>\n",
       "      <td>371.0</td>\n",
       "    </tr>\n",
       "  </tbody>\n",
       "</table>\n",
       "</div>"
      ],
      "text/plain": [
       "                                   Total_Fatal_Injuries  \\\n",
       "Engine_Type     Number_of_Engines                         \n",
       "Reciprocating   1.00                            12240.0   \n",
       "                1.14                             5350.0   \n",
       "                2.00                             3523.0   \n",
       "Unknown         1.14                             3248.0   \n",
       "Turbo Shaft     1.00                              695.0   \n",
       "Turbo Fan       2.00                             1877.0   \n",
       "Turbo Prop      2.00                             1095.0   \n",
       "Turbo Fan       3.00                              670.0   \n",
       "Unknown         0.00                              319.0   \n",
       "Turbo Fan       4.00                             1206.0   \n",
       "                1.14                              690.0   \n",
       "Turbo Shaft     2.00                              224.0   \n",
       "Turbo Jet       2.00                              330.0   \n",
       "Turbo Shaft     1.14                              606.0   \n",
       "Turbo Prop      1.00                              191.0   \n",
       "                1.14                              332.0   \n",
       "Turbo Jet       3.00                                8.0   \n",
       "Unknown         1.00                               14.0   \n",
       "Turbo Jet       1.14                              148.0   \n",
       "Reciprocating   0.00                                2.0   \n",
       "                4.00                               51.0   \n",
       "Turbo Jet       4.00                              260.0   \n",
       "                1.00                               24.0   \n",
       "Turbo Prop      4.00                              102.0   \n",
       "Unknown         2.00                                1.0   \n",
       "Electric        1.14                                1.0   \n",
       "Turbo Prop      0.00                                0.0   \n",
       "Turbo Fan       0.00                                0.0   \n",
       "Turbo Shaft     0.00                                0.0   \n",
       "Turbo Fan       1.00                               12.0   \n",
       "Geared Turbofan 1.14                              176.0   \n",
       "Reciprocating   3.00                              169.0   \n",
       "Geared Turbofan 2.00                                0.0   \n",
       "Unknown         3.00                                0.0   \n",
       "                4.00                                0.0   \n",
       "\n",
       "                                   Total_Serious_Injuries  Total_Uninjured  \n",
       "Engine_Type     Number_of_Engines                                           \n",
       "Reciprocating   1.00                               6923.0          40816.0  \n",
       "                1.14                                871.0          42664.0  \n",
       "                2.00                                856.0          13372.0  \n",
       "Unknown         1.14                                841.0           8212.0  \n",
       "Turbo Shaft     1.00                                578.0           2119.0  \n",
       "Turbo Fan       2.00                                447.0          58844.0  \n",
       "Turbo Prop      2.00                                300.0           9897.0  \n",
       "Turbo Fan       3.00                                276.0          35277.0  \n",
       "Unknown         0.00                                249.0           2214.0  \n",
       "Turbo Fan       4.00                                155.0          24128.0  \n",
       "                1.14                                126.0           4828.0  \n",
       "Turbo Shaft     2.00                                106.0           1025.0  \n",
       "Turbo Jet       2.00                                 94.0          11885.0  \n",
       "Turbo Shaft     1.14                                 81.0           2451.0  \n",
       "Turbo Prop      1.00                                 56.0            416.0  \n",
       "                1.14                                 36.0           2889.0  \n",
       "Turbo Jet       3.00                                 15.0           8871.0  \n",
       "Unknown         1.00                                 13.0            586.0  \n",
       "Turbo Jet       1.14                                 11.0            569.0  \n",
       "Reciprocating   0.00                                 11.0             37.0  \n",
       "                4.00                                 10.0            465.0  \n",
       "Turbo Jet       4.00                                  9.0           3146.0  \n",
       "                1.00                                  7.0             15.0  \n",
       "Turbo Prop      4.00                                  6.0            248.0  \n",
       "Unknown         2.00                                  4.0            577.0  \n",
       "Electric        1.14                                  3.0              2.0  \n",
       "Turbo Prop      0.00                                  2.0              4.0  \n",
       "Turbo Fan       0.00                                  2.0              1.0  \n",
       "Turbo Shaft     0.00                                  1.0              1.0  \n",
       "Turbo Fan       1.00                                  1.0            160.0  \n",
       "Geared Turbofan 1.14                                  0.0              0.0  \n",
       "Reciprocating   3.00                                  0.0            301.0  \n",
       "Geared Turbofan 2.00                                  0.0              0.0  \n",
       "Unknown         3.00                                  0.0              2.0  \n",
       "                4.00                                  0.0            371.0  "
      ]
     },
     "execution_count": 517,
     "metadata": {},
     "output_type": "execute_result"
    }
   ],
   "source": [
    "# Grouping by 'Country' and 'Aircraft_damage' and summing 'Total_Fatal_Injuries'\n",
    "agg_data = aviation_data.groupby(['Engine_Type', 'Number_of_Engines']).agg({\n",
    "    'Total_Fatal_Injuries': 'sum',\n",
    "    'Total_Serious_Injuries': 'sum',\n",
    "    'Total_Uninjured': 'sum'\n",
    "})\n",
    "\n",
    "sorted_agg_data=agg_data.sort_values(by='Total_Fatal_Injuries', ascending=False)\n",
    "sorted_agg_data=agg_data.sort_values(by='Total_Uninjured', ascending=False)\n",
    "sorted_agg_data=agg_data.sort_values(by='Total_Serious_Injuries', ascending=False)\n",
    "\n",
    "sorted_agg_data\n"
   ]
  },
  {
   "cell_type": "code",
   "execution_count": 518,
   "metadata": {},
   "outputs": [
    {
     "data": {
      "text/plain": [
       "Index(['Event_Id', 'Investigation_Type', 'Accident_Number', 'Event_Date',\n",
       "       'Location', 'Country', 'Latitude', 'Longitude', 'Injury_Severity',\n",
       "       'Aircraft_damage', 'Aircraft_Category', 'Make', 'Model',\n",
       "       'Amateur_Built', 'Number_of_Engines', 'Engine_Type',\n",
       "       'Purpose_of_flight', 'Total_Fatal_Injuries', 'Total_Serious_Injuries',\n",
       "       'Total_Minor_Injuries', 'Total_Uninjured', 'Weather_Condition',\n",
       "       'Broad_phase_of_flight', 'Report_Status'],\n",
       "      dtype='object')"
      ]
     },
     "execution_count": 518,
     "metadata": {},
     "output_type": "execute_result"
    }
   ],
   "source": [
    "aviation_data.columns"
   ]
  },
  {
   "cell_type": "markdown",
   "metadata": {
    "id": "vOdYTC7WeROH"
   },
   "source": [
    "### Exporting Data"
   ]
  },
  {
   "cell_type": "markdown",
   "metadata": {
    "id": "Ibc9_v5Mec-B"
   },
   "source": [
    "After our data was cleaned we exported it"
   ]
  },
  {
   "cell_type": "code",
   "execution_count": 537,
   "metadata": {
    "id": "ln2Oc8c3ejMX"
   },
   "outputs": [],
   "source": [
    "#Saving our Dataset\n",
    "cleaned_aviation_data=aviation_data.to_csv('clean_aviation_data.csv',index=False)\n",
    "\n"
   ]
  },
  {
   "cell_type": "markdown",
   "metadata": {
    "id": "d_zle6xbs8lN"
   },
   "source": [
    "# Research Objectives"
   ]
  },
  {
   "cell_type": "markdown",
   "metadata": {
    "id": "0tZP9youpzFs"
   },
   "source": [
    "\n",
    "The main objective is to identify the lowest risk aircraft \n",
    "\n",
    "* To determine which aircraft model and make have the most fatalities and  damages.\n",
    "* To determine which Engine type has the most damages and fatalities and discover the best Engine type.\n",
    "* To determine the relationship between the number of engines and the aircraft damage\n",
    "* to determine the relationship between aircraft category, the Make and the Damage.\n",
    "\n",
    "\n",
    "\n",
    "\n",
    "\n",
    "\n",
    "\n",
    "\n"
   ]
  },
  {
   "cell_type": "markdown",
   "metadata": {
    "id": "PkrnkIFuhS6W"
   },
   "source": [
    "# Data Evaluation"
   ]
  },
  {
   "cell_type": "markdown",
   "metadata": {
    "id": "xnFfZRNdhfwA"
   },
   "source": [
    "From the visualizations, the following analysis from a sample of first 10 accidents was made;\n",
    "\n",
    "\n",
    "\n",
    "1. **Boeing** plane models have the highest average fatal injuries out of the top 10 fatal injuries but **Boeing** model holds the highest rank.\n",
    "2. **cesna,boeing and piper** are the top aircraft makes that have the most number of Engines which means they have optimal performance with **cessna** having being the highest out of the three. However, **boieng** also doubles up as having the top highest number of fatalities as well as the highest record of those uninjured.\n",
    "3. As for **Cessna** , the higher the number of engines the lower the fatality of the Injuries however the same does not apply to **Boeing**. **piper** has a moderate number of engines with very few fatalities\n",
    "3.  **Reciprocating** engine records the highest number of fatalities both fatal and minor. However, also records the highest number of those uninjured.\n",
    "4. **Turbo Fan** has the highest number of engines and also the worst aircradt damages however, it has amongst the least fatalities.\n",
    " 5. **Aircrafts** have the worst damages during accidents and **Boeing** is the make that gets most destroyed out of all makes.The aircrafts with substatioal damages are **cessna and piper** with **cesna** being the highest. However, **cessna** also has one of the worst aircraft damages.\n",
    "\n",
    "\n",
    "\n",
    "\n",
    "\n",
    "\n",
    "\n",
    "\n",
    "\n",
    "\n",
    "\n",
    "\n",
    "\n",
    "\n",
    "\n",
    "\n",
    "\n",
    "\n",
    "\n"
   ]
  },
  {
   "cell_type": "markdown",
   "metadata": {
    "id": "GZvcTu6ACdes"
   },
   "source": [
    "# Conclusion and recommendations"
   ]
  },
  {
   "cell_type": "markdown",
   "metadata": {
    "id": "ylb9UXsBCoCq"
   },
   "source": [
    "The visualization of results provided in this study will provide more reliable and reusable information for our company in making decisions on purchasing aircrafts. They will also be able to make good business decisions on the aircrafts with both the highest and lowest risks .\n",
    "\n",
    "From the analysis, i would recommend the following;\n",
    "\n",
    "* Out of all aircrafts, the team should puchase more **helicopters and glider** than aeroplanes because record the least chances of fatalities and severe aircraft damages.\n",
    "* If purchasing aeroplanes, the team should consider purchasing **piper** aircraft of model **PA-18** because from the it is the aircraft with the lowest risk of fatalities during accidents and severe  aircraft damages.\n",
    "* The company should consider purchasing aircraft that uses **TurboFan** engine as opposed to **reciprocating** engine. **Turbofan** has the least record of fatalies and aircraft damages and it has more engines which means optimal performance and power. **Reciprocating** engine has recorded massive destruction at aircraft damages.\n",
    "\n",
    "\n",
    "\n",
    "\n",
    "\n",
    "\n",
    "\n",
    "\n"
   ]
  }
 ],
 "metadata": {
  "colab": {
   "provenance": []
  },
  "kernelspec": {
   "display_name": "Python 3",
   "language": "python",
   "name": "python3"
  },
  "language_info": {
   "codemirror_mode": {
    "name": "ipython",
    "version": 3
   },
   "file_extension": ".py",
   "mimetype": "text/x-python",
   "name": "python",
   "nbconvert_exporter": "python",
   "pygments_lexer": "ipython3",
   "version": "3.8.5"
  }
 },
 "nbformat": 4,
 "nbformat_minor": 1
}
